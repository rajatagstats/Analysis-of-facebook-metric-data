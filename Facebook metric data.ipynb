{
 "cells": [
  {
   "cell_type": "code",
   "execution_count": 132,
   "metadata": {},
   "outputs": [
    {
     "data": {
      "text/html": [
       "<table>\n",
       "<thead><tr><th scope=col>Page.total.likes</th><th scope=col>Type</th><th scope=col>Category</th><th scope=col>Post.Month</th><th scope=col>Post.Weekday</th><th scope=col>Post.Hour</th><th scope=col>Paid</th><th scope=col>Lifetime.Post.Total.Reach</th><th scope=col>Lifetime.Post.Total.Impressions</th><th scope=col>Lifetime.Engaged.Users</th><th scope=col>Lifetime.Post.Consumers</th><th scope=col>Lifetime.Post.Consumptions</th><th scope=col>Lifetime.Post.Impressions.by.people.who.have.liked.your.Page</th><th scope=col>Lifetime.Post.reach.by.people.who.like.your.Page</th><th scope=col>Lifetime.People.who.have.liked.your.Page.and.engaged.with.your.post</th><th scope=col>comment</th><th scope=col>like</th><th scope=col>share</th><th scope=col>Total.Interactions</th></tr></thead>\n",
       "<tbody>\n",
       "\t<tr><td>139441</td><td>Photo </td><td>2     </td><td>12    </td><td>4     </td><td> 3    </td><td>0     </td><td> 2752 </td><td> 5091 </td><td> 178  </td><td> 109  </td><td> 159  </td><td> 3078 </td><td> 1640 </td><td> 119  </td><td> 4    </td><td>  79  </td><td> 17   </td><td> 100  </td></tr>\n",
       "\t<tr><td>139441</td><td>Status</td><td>2     </td><td>12    </td><td>3     </td><td>10    </td><td>0     </td><td>10460 </td><td>19057 </td><td>1457  </td><td>1361  </td><td>1674  </td><td>11710 </td><td> 6112 </td><td>1108  </td><td> 5    </td><td> 130  </td><td> 29   </td><td> 164  </td></tr>\n",
       "\t<tr><td>139441</td><td>Photo </td><td>3     </td><td>12    </td><td>3     </td><td> 3    </td><td>0     </td><td> 2413 </td><td> 4373 </td><td> 177  </td><td> 113  </td><td> 154  </td><td> 2812 </td><td> 1503 </td><td> 132  </td><td> 0    </td><td>  66  </td><td> 14   </td><td>  80  </td></tr>\n",
       "\t<tr><td>139441</td><td>Photo </td><td>2     </td><td>12    </td><td>2     </td><td>10    </td><td>1     </td><td>50128 </td><td>87991 </td><td>2211  </td><td> 790  </td><td>1119  </td><td>61027 </td><td>32048 </td><td>1386  </td><td>58    </td><td>1572  </td><td>147   </td><td>1777  </td></tr>\n",
       "\t<tr><td>139441</td><td>Photo </td><td>2     </td><td>12    </td><td>2     </td><td> 3    </td><td>0     </td><td> 7244 </td><td>13594 </td><td> 671  </td><td> 410  </td><td> 580  </td><td> 6228 </td><td> 3200 </td><td> 396  </td><td>19    </td><td> 325  </td><td> 49   </td><td> 393  </td></tr>\n",
       "\t<tr><td>139441</td><td>Status</td><td>2     </td><td>12    </td><td>1     </td><td> 9    </td><td>0     </td><td>10472 </td><td>20849 </td><td>1191  </td><td>1073  </td><td>1389  </td><td>16034 </td><td> 7852 </td><td>1016  </td><td> 1    </td><td> 152  </td><td> 33   </td><td> 186  </td></tr>\n",
       "</tbody>\n",
       "</table>\n"
      ],
      "text/latex": [
       "\\begin{tabular}{r|lllllllllllllllllll}\n",
       " Page.total.likes & Type & Category & Post.Month & Post.Weekday & Post.Hour & Paid & Lifetime.Post.Total.Reach & Lifetime.Post.Total.Impressions & Lifetime.Engaged.Users & Lifetime.Post.Consumers & Lifetime.Post.Consumptions & Lifetime.Post.Impressions.by.people.who.have.liked.your.Page & Lifetime.Post.reach.by.people.who.like.your.Page & Lifetime.People.who.have.liked.your.Page.and.engaged.with.your.post & comment & like & share & Total.Interactions\\\\\n",
       "\\hline\n",
       "\t 139441 & Photo  & 2      & 12     & 4      &  3     & 0      &  2752  &  5091  &  178   &  109   &  159   &  3078  &  1640  &  119   &  4     &   79   &  17    &  100  \\\\\n",
       "\t 139441 & Status & 2      & 12     & 3      & 10     & 0      & 10460  & 19057  & 1457   & 1361   & 1674   & 11710  &  6112  & 1108   &  5     &  130   &  29    &  164  \\\\\n",
       "\t 139441 & Photo  & 3      & 12     & 3      &  3     & 0      &  2413  &  4373  &  177   &  113   &  154   &  2812  &  1503  &  132   &  0     &   66   &  14    &   80  \\\\\n",
       "\t 139441 & Photo  & 2      & 12     & 2      & 10     & 1      & 50128  & 87991  & 2211   &  790   & 1119   & 61027  & 32048  & 1386   & 58     & 1572   & 147    & 1777  \\\\\n",
       "\t 139441 & Photo  & 2      & 12     & 2      &  3     & 0      &  7244  & 13594  &  671   &  410   &  580   &  6228  &  3200  &  396   & 19     &  325   &  49    &  393  \\\\\n",
       "\t 139441 & Status & 2      & 12     & 1      &  9     & 0      & 10472  & 20849  & 1191   & 1073   & 1389   & 16034  &  7852  & 1016   &  1     &  152   &  33    &  186  \\\\\n",
       "\\end{tabular}\n"
      ],
      "text/markdown": [
       "\n",
       "| Page.total.likes | Type | Category | Post.Month | Post.Weekday | Post.Hour | Paid | Lifetime.Post.Total.Reach | Lifetime.Post.Total.Impressions | Lifetime.Engaged.Users | Lifetime.Post.Consumers | Lifetime.Post.Consumptions | Lifetime.Post.Impressions.by.people.who.have.liked.your.Page | Lifetime.Post.reach.by.people.who.like.your.Page | Lifetime.People.who.have.liked.your.Page.and.engaged.with.your.post | comment | like | share | Total.Interactions |\n",
       "|---|---|---|---|---|---|---|---|---|---|---|---|---|---|---|---|---|---|---|\n",
       "| 139441 | Photo  | 2      | 12     | 4      |  3     | 0      |  2752  |  5091  |  178   |  109   |  159   |  3078  |  1640  |  119   |  4     |   79   |  17    |  100   |\n",
       "| 139441 | Status | 2      | 12     | 3      | 10     | 0      | 10460  | 19057  | 1457   | 1361   | 1674   | 11710  |  6112  | 1108   |  5     |  130   |  29    |  164   |\n",
       "| 139441 | Photo  | 3      | 12     | 3      |  3     | 0      |  2413  |  4373  |  177   |  113   |  154   |  2812  |  1503  |  132   |  0     |   66   |  14    |   80   |\n",
       "| 139441 | Photo  | 2      | 12     | 2      | 10     | 1      | 50128  | 87991  | 2211   |  790   | 1119   | 61027  | 32048  | 1386   | 58     | 1572   | 147    | 1777   |\n",
       "| 139441 | Photo  | 2      | 12     | 2      |  3     | 0      |  7244  | 13594  |  671   |  410   |  580   |  6228  |  3200  |  396   | 19     |  325   |  49    |  393   |\n",
       "| 139441 | Status | 2      | 12     | 1      |  9     | 0      | 10472  | 20849  | 1191   | 1073   | 1389   | 16034  |  7852  | 1016   |  1     |  152   |  33    |  186   |\n",
       "\n"
      ],
      "text/plain": [
       "  Page.total.likes Type   Category Post.Month Post.Weekday Post.Hour Paid\n",
       "1 139441           Photo  2        12         4             3        0   \n",
       "2 139441           Status 2        12         3            10        0   \n",
       "3 139441           Photo  3        12         3             3        0   \n",
       "4 139441           Photo  2        12         2            10        1   \n",
       "5 139441           Photo  2        12         2             3        0   \n",
       "6 139441           Status 2        12         1             9        0   \n",
       "  Lifetime.Post.Total.Reach Lifetime.Post.Total.Impressions\n",
       "1  2752                      5091                          \n",
       "2 10460                     19057                          \n",
       "3  2413                      4373                          \n",
       "4 50128                     87991                          \n",
       "5  7244                     13594                          \n",
       "6 10472                     20849                          \n",
       "  Lifetime.Engaged.Users Lifetime.Post.Consumers Lifetime.Post.Consumptions\n",
       "1  178                    109                     159                      \n",
       "2 1457                   1361                    1674                      \n",
       "3  177                    113                     154                      \n",
       "4 2211                    790                    1119                      \n",
       "5  671                    410                     580                      \n",
       "6 1191                   1073                    1389                      \n",
       "  Lifetime.Post.Impressions.by.people.who.have.liked.your.Page\n",
       "1  3078                                                       \n",
       "2 11710                                                       \n",
       "3  2812                                                       \n",
       "4 61027                                                       \n",
       "5  6228                                                       \n",
       "6 16034                                                       \n",
       "  Lifetime.Post.reach.by.people.who.like.your.Page\n",
       "1  1640                                           \n",
       "2  6112                                           \n",
       "3  1503                                           \n",
       "4 32048                                           \n",
       "5  3200                                           \n",
       "6  7852                                           \n",
       "  Lifetime.People.who.have.liked.your.Page.and.engaged.with.your.post comment\n",
       "1  119                                                                 4     \n",
       "2 1108                                                                 5     \n",
       "3  132                                                                 0     \n",
       "4 1386                                                                58     \n",
       "5  396                                                                19     \n",
       "6 1016                                                                 1     \n",
       "  like share Total.Interactions\n",
       "1   79  17    100              \n",
       "2  130  29    164              \n",
       "3   66  14     80              \n",
       "4 1572 147   1777              \n",
       "5  325  49    393              \n",
       "6  152  33    186              "
      ]
     },
     "metadata": {},
     "output_type": "display_data"
    }
   ],
   "source": [
    "MAPE = function(ycap,y)\n",
    "{\n",
    "  cat('MAPE',mean(abs((y - ycap)/y)))\n",
    "}\n",
    "# Data importing\n",
    "X=read.csv(\"dataset_Facebook.csv\",sep=\";\",header=TRUE,na.string = '?' )\n",
    "head(X)"
   ]
  },
  {
   "cell_type": "code",
   "execution_count": 133,
   "metadata": {},
   "outputs": [
    {
     "data": {
      "text/html": [
       "<ol class=list-inline>\n",
       "\t<li>'Page.total.likes'</li>\n",
       "\t<li>'Type'</li>\n",
       "\t<li>'Category'</li>\n",
       "\t<li>'Post.Month'</li>\n",
       "\t<li>'Post.Weekday'</li>\n",
       "\t<li>'Post.Hour'</li>\n",
       "\t<li>'Paid'</li>\n",
       "\t<li>'Lifetime.Post.Total.Reach'</li>\n",
       "\t<li>'Lifetime.Post.Total.Impressions'</li>\n",
       "\t<li>'Lifetime.Engaged.Users'</li>\n",
       "\t<li>'Lifetime.Post.Consumers'</li>\n",
       "\t<li>'Lifetime.Post.Consumptions'</li>\n",
       "\t<li>'Lifetime.Post.Impressions.by.people.who.have.liked.your.Page'</li>\n",
       "\t<li>'Lifetime.Post.reach.by.people.who.like.your.Page'</li>\n",
       "\t<li>'Lifetime.People.who.have.liked.your.Page.and.engaged.with.your.post'</li>\n",
       "\t<li>'comment'</li>\n",
       "\t<li>'like'</li>\n",
       "\t<li>'share'</li>\n",
       "\t<li>'Total.Interactions'</li>\n",
       "</ol>\n"
      ],
      "text/latex": [
       "\\begin{enumerate*}\n",
       "\\item 'Page.total.likes'\n",
       "\\item 'Type'\n",
       "\\item 'Category'\n",
       "\\item 'Post.Month'\n",
       "\\item 'Post.Weekday'\n",
       "\\item 'Post.Hour'\n",
       "\\item 'Paid'\n",
       "\\item 'Lifetime.Post.Total.Reach'\n",
       "\\item 'Lifetime.Post.Total.Impressions'\n",
       "\\item 'Lifetime.Engaged.Users'\n",
       "\\item 'Lifetime.Post.Consumers'\n",
       "\\item 'Lifetime.Post.Consumptions'\n",
       "\\item 'Lifetime.Post.Impressions.by.people.who.have.liked.your.Page'\n",
       "\\item 'Lifetime.Post.reach.by.people.who.like.your.Page'\n",
       "\\item 'Lifetime.People.who.have.liked.your.Page.and.engaged.with.your.post'\n",
       "\\item 'comment'\n",
       "\\item 'like'\n",
       "\\item 'share'\n",
       "\\item 'Total.Interactions'\n",
       "\\end{enumerate*}\n"
      ],
      "text/markdown": [
       "1. 'Page.total.likes'\n",
       "2. 'Type'\n",
       "3. 'Category'\n",
       "4. 'Post.Month'\n",
       "5. 'Post.Weekday'\n",
       "6. 'Post.Hour'\n",
       "7. 'Paid'\n",
       "8. 'Lifetime.Post.Total.Reach'\n",
       "9. 'Lifetime.Post.Total.Impressions'\n",
       "10. 'Lifetime.Engaged.Users'\n",
       "11. 'Lifetime.Post.Consumers'\n",
       "12. 'Lifetime.Post.Consumptions'\n",
       "13. 'Lifetime.Post.Impressions.by.people.who.have.liked.your.Page'\n",
       "14. 'Lifetime.Post.reach.by.people.who.like.your.Page'\n",
       "15. 'Lifetime.People.who.have.liked.your.Page.and.engaged.with.your.post'\n",
       "16. 'comment'\n",
       "17. 'like'\n",
       "18. 'share'\n",
       "19. 'Total.Interactions'\n",
       "\n",
       "\n"
      ],
      "text/plain": [
       " [1] \"Page.total.likes\"                                                   \n",
       " [2] \"Type\"                                                               \n",
       " [3] \"Category\"                                                           \n",
       " [4] \"Post.Month\"                                                         \n",
       " [5] \"Post.Weekday\"                                                       \n",
       " [6] \"Post.Hour\"                                                          \n",
       " [7] \"Paid\"                                                               \n",
       " [8] \"Lifetime.Post.Total.Reach\"                                          \n",
       " [9] \"Lifetime.Post.Total.Impressions\"                                    \n",
       "[10] \"Lifetime.Engaged.Users\"                                             \n",
       "[11] \"Lifetime.Post.Consumers\"                                            \n",
       "[12] \"Lifetime.Post.Consumptions\"                                         \n",
       "[13] \"Lifetime.Post.Impressions.by.people.who.have.liked.your.Page\"       \n",
       "[14] \"Lifetime.Post.reach.by.people.who.like.your.Page\"                   \n",
       "[15] \"Lifetime.People.who.have.liked.your.Page.and.engaged.with.your.post\"\n",
       "[16] \"comment\"                                                            \n",
       "[17] \"like\"                                                               \n",
       "[18] \"share\"                                                              \n",
       "[19] \"Total.Interactions\"                                                 "
      ]
     },
     "metadata": {},
     "output_type": "display_data"
    },
    {
     "data": {
      "text/html": [
       "<ol class=list-inline>\n",
       "\t<li>500</li>\n",
       "\t<li>19</li>\n",
       "</ol>\n"
      ],
      "text/latex": [
       "\\begin{enumerate*}\n",
       "\\item 500\n",
       "\\item 19\n",
       "\\end{enumerate*}\n"
      ],
      "text/markdown": [
       "1. 500\n",
       "2. 19\n",
       "\n",
       "\n"
      ],
      "text/plain": [
       "[1] 500  19"
      ]
     },
     "metadata": {},
     "output_type": "display_data"
    }
   ],
   "source": [
    "colnames(X)\n",
    "dim(X) #whole data dimension"
   ]
  },
  {
   "cell_type": "code",
   "execution_count": 134,
   "metadata": {},
   "outputs": [
    {
     "data": {
      "text/html": [
       "<ol class=list-inline>\n",
       "\t<li>'Page.total.likes'</li>\n",
       "\t<li>'Type'</li>\n",
       "\t<li>'Category'</li>\n",
       "\t<li>'Post.Month'</li>\n",
       "\t<li>'Post.Weekday'</li>\n",
       "\t<li>'Post.Hour'</li>\n",
       "\t<li>'Paid'</li>\n",
       "\t<li>'Total.Reach'</li>\n",
       "\t<li>'Total.Impressions'</li>\n",
       "\t<li>'Lifetime.Engaged.Users'</li>\n",
       "\t<li>'Consumers'</li>\n",
       "\t<li>'Consumptions'</li>\n",
       "\t<li>'Impressions.liked'</li>\n",
       "\t<li>'Reach.liked'</li>\n",
       "\t<li>'People.engaged.liked'</li>\n",
       "\t<li>'comment'</li>\n",
       "\t<li>'like'</li>\n",
       "\t<li>'share'</li>\n",
       "\t<li>'Total.Interactions'</li>\n",
       "</ol>\n"
      ],
      "text/latex": [
       "\\begin{enumerate*}\n",
       "\\item 'Page.total.likes'\n",
       "\\item 'Type'\n",
       "\\item 'Category'\n",
       "\\item 'Post.Month'\n",
       "\\item 'Post.Weekday'\n",
       "\\item 'Post.Hour'\n",
       "\\item 'Paid'\n",
       "\\item 'Total.Reach'\n",
       "\\item 'Total.Impressions'\n",
       "\\item 'Lifetime.Engaged.Users'\n",
       "\\item 'Consumers'\n",
       "\\item 'Consumptions'\n",
       "\\item 'Impressions.liked'\n",
       "\\item 'Reach.liked'\n",
       "\\item 'People.engaged.liked'\n",
       "\\item 'comment'\n",
       "\\item 'like'\n",
       "\\item 'share'\n",
       "\\item 'Total.Interactions'\n",
       "\\end{enumerate*}\n"
      ],
      "text/markdown": [
       "1. 'Page.total.likes'\n",
       "2. 'Type'\n",
       "3. 'Category'\n",
       "4. 'Post.Month'\n",
       "5. 'Post.Weekday'\n",
       "6. 'Post.Hour'\n",
       "7. 'Paid'\n",
       "8. 'Total.Reach'\n",
       "9. 'Total.Impressions'\n",
       "10. 'Lifetime.Engaged.Users'\n",
       "11. 'Consumers'\n",
       "12. 'Consumptions'\n",
       "13. 'Impressions.liked'\n",
       "14. 'Reach.liked'\n",
       "15. 'People.engaged.liked'\n",
       "16. 'comment'\n",
       "17. 'like'\n",
       "18. 'share'\n",
       "19. 'Total.Interactions'\n",
       "\n",
       "\n"
      ],
      "text/plain": [
       " [1] \"Page.total.likes\"       \"Type\"                   \"Category\"              \n",
       " [4] \"Post.Month\"             \"Post.Weekday\"           \"Post.Hour\"             \n",
       " [7] \"Paid\"                   \"Total.Reach\"            \"Total.Impressions\"     \n",
       "[10] \"Lifetime.Engaged.Users\" \"Consumers\"              \"Consumptions\"          \n",
       "[13] \"Impressions.liked\"      \"Reach.liked\"            \"People.engaged.liked\"  \n",
       "[16] \"comment\"                \"like\"                   \"share\"                 \n",
       "[19] \"Total.Interactions\"    "
      ]
     },
     "metadata": {},
     "output_type": "display_data"
    }
   ],
   "source": [
    "#shortening column names\n",
    "colnames(X)[8:15]=c('Total.Reach','Total.Impressions','Lifetime.Engaged.Users','Consumers','Consumptions','Impressions.liked','Reach.liked','People.engaged.liked')\n",
    "colnames(X)#checking column names after shortening"
   ]
  },
  {
   "cell_type": "code",
   "execution_count": 135,
   "metadata": {},
   "outputs": [
    {
     "data": {
      "text/html": [
       "<ol class=list-inline>\n",
       "\t<li>500</li>\n",
       "\t<li>16</li>\n",
       "</ol>\n"
      ],
      "text/latex": [
       "\\begin{enumerate*}\n",
       "\\item 500\n",
       "\\item 16\n",
       "\\end{enumerate*}\n"
      ],
      "text/markdown": [
       "1. 500\n",
       "2. 16\n",
       "\n",
       "\n"
      ],
      "text/plain": [
       "[1] 500  16"
      ]
     },
     "metadata": {},
     "output_type": "display_data"
    }
   ],
   "source": [
    "#from the information in the it is given that the column 'Total.Interactions' is sum of 'like', 'comment' and 'share'\n",
    "#so, these four variables are redundant and we only use 'Total.Interaction' and exclude other 3\n",
    "X=X[,-c(which(colnames(X)=='like'),which(colnames(X)=='share'),which(colnames(X)=='comment'))]\n",
    "dim(X)"
   ]
  },
  {
   "cell_type": "code",
   "execution_count": 136,
   "metadata": {},
   "outputs": [],
   "source": [
    "library(skimr)"
   ]
  },
  {
   "cell_type": "code",
   "execution_count": 137,
   "metadata": {},
   "outputs": [
    {
     "name": "stdout",
     "output_type": "stream",
     "text": [
      "-- Data Summary ------------------------\n",
      "                           Values\n",
      "Name                       X     \n",
      "Number of rows             500   \n",
      "Number of columns          16    \n",
      "_______________________          \n",
      "Column type frequency:           \n",
      "  factor                   1     \n",
      "  numeric                  15    \n",
      "________________________         \n",
      "Group variables            None  \n",
      "\n",
      "-- Variable type: factor -------------------------------------------------------\n",
      "# A tibble: 1 x 6\n",
      "  skim_variable n_missing complete_rate ordered n_unique\n",
      "* <chr>             <int>         <dbl> <lgl>      <int>\n",
      "1 Type                  0             1 FALSE          4\n",
      "  top_counts                        \n",
      "* <chr>                             \n",
      "1 Pho: 426, Sta: 45, Lin: 22, Vid: 7\n",
      "\n",
      "-- Variable type: numeric ------------------------------------------------------\n",
      "# A tibble: 15 x 11\n",
      "   skim_variable          n_missing complete_rate       mean        sd    p0\n",
      " * <chr>                      <int>         <dbl>      <dbl>     <dbl> <dbl>\n",
      " 1 Page.total.likes               0         1     123194.    16273.    81370\n",
      " 2 Category                       0         1          1.88      0.853     1\n",
      " 3 Post.Month                     0         1          7.04      3.31      1\n",
      " 4 Post.Weekday                   0         1          4.15      2.03      1\n",
      " 5 Post.Hour                      0         1          7.84      4.37      1\n",
      " 6 Paid                           1         0.998      0.279     0.449     0\n",
      " 7 Total.Reach                    0         1      13903.    22741.      238\n",
      " 8 Total.Impressions              0         1      29586.    76803.      570\n",
      " 9 Lifetime.Engaged.Users         0         1        920.      985.        9\n",
      "10 Consumers                      0         1        799.      883.        9\n",
      "11 Consumptions                   0         1       1415.     2001.        9\n",
      "12 Impressions.liked              0         1      16766.    59791.      567\n",
      "13 Reach.liked                    0         1       6585.     7682.      236\n",
      "14 People.engaged.liked           0         1        610.      613.        9\n",
      "15 Total.Interactions             0         1        212.      380.        0\n",
      "       p25     p50     p75    p100 hist \n",
      " *   <dbl>   <dbl>   <dbl>   <dbl> <chr>\n",
      " 1 112676  129600  136393   139441 <U+2581><U+2581><U+2582><U+2582><U+2587>\n",
      " 2      1       2       3        3 <U+2587><U+2581><U+2585><U+2581><U+2586>\n",
      " 3      4       7      10       12 <U+2585><U+2585><U+2585><U+2583><U+2587>\n",
      " 4      2       4       6        7 <U+2586><U+2583><U+2583><U+2583><U+2587>\n",
      " 5      3       9      11       23 <U+2587><U+2582><U+2587><U+2581><U+2581>\n",
      " 6      0       0       1        1 <U+2587><U+2581><U+2581><U+2581><U+2583>\n",
      " 7   3315    5281   13168   180480 <U+2587><U+2581><U+2581><U+2581><U+2581>\n",
      " 8   5695.   9051   22086. 1110282 <U+2587><U+2581><U+2581><U+2581><U+2581>\n",
      " 9    394.    626.   1062    11452 <U+2587><U+2581><U+2581><U+2581><U+2581>\n",
      "10    332.    552.    956.   11328 <U+2587><U+2581><U+2581><U+2581><U+2581>\n",
      "11    509.    851    1463    19779 <U+2587><U+2581><U+2581><U+2581><U+2581>\n",
      "12   3970.   6256.  14860. 1107833 <U+2587><U+2581><U+2581><U+2581><U+2581>\n",
      "13   2182.   3417    7989    51456 <U+2587><U+2581><U+2581><U+2581><U+2581>\n",
      "14    291     412     656.    4376 <U+2587><U+2581><U+2581><U+2581><U+2581>\n",
      "15     71     124.    228.    6334 <U+2587><U+2581><U+2581><U+2581><U+2581>\n"
     ]
    }
   ],
   "source": [
    "skim(X)"
   ]
  },
  {
   "cell_type": "code",
   "execution_count": 138,
   "metadata": {},
   "outputs": [
    {
     "data": {
      "text/html": [
       "500"
      ],
      "text/latex": [
       "500"
      ],
      "text/markdown": [
       "500"
      ],
      "text/plain": [
       "[1] 500"
      ]
     },
     "metadata": {},
     "output_type": "display_data"
    }
   ],
   "source": [
    "#see that there is 500 obsn, 16 variables, one categorical, 15 numeric variable\n",
    "#one missing value in 'Paid'\n",
    "\n",
    "#We will exculde the single observation contains a missing value\n",
    "which(is.na(X$Paid)==T) #500"
   ]
  },
  {
   "cell_type": "code",
   "execution_count": 139,
   "metadata": {},
   "outputs": [
    {
     "data": {
      "text/html": [
       "<ol class=list-inline>\n",
       "\t<li>499</li>\n",
       "\t<li>16</li>\n",
       "</ol>\n"
      ],
      "text/latex": [
       "\\begin{enumerate*}\n",
       "\\item 499\n",
       "\\item 16\n",
       "\\end{enumerate*}\n"
      ],
      "text/markdown": [
       "1. 499\n",
       "2. 16\n",
       "\n",
       "\n"
      ],
      "text/plain": [
       "[1] 499  16"
      ]
     },
     "metadata": {},
     "output_type": "display_data"
    }
   ],
   "source": [
    "#deleting 500th observation \n",
    "X=X[-500,]\n",
    "dim(X)"
   ]
  },
  {
   "cell_type": "code",
   "execution_count": 140,
   "metadata": {},
   "outputs": [],
   "source": [
    "#Actually there are 6 categorical variable namely 'Type', 'Category', 'Post.Month'\n",
    "#'Post.Weekday', 'Post.Hour' and 'Paid' needed to convert into categorical type\n",
    "X$Type=as.factor(X$Type)\n",
    "X$Category=as.factor(X$Category)\n",
    "X$Paid=as.factor(X$Paid)\n",
    "X$Post.Month=as.factor(X$Post.Month)\n",
    "X$Post.Hour=as.factor(X$Post.Hour)\n",
    "X$Post.Weekday=as.factor(X$Post.Weekday)"
   ]
  },
  {
   "cell_type": "code",
   "execution_count": 141,
   "metadata": {},
   "outputs": [
    {
     "name": "stdout",
     "output_type": "stream",
     "text": [
      "-- Data Summary ------------------------\n",
      "                           Values\n",
      "Name                       X     \n",
      "Number of rows             499   \n",
      "Number of columns          16    \n",
      "_______________________          \n",
      "Column type frequency:           \n",
      "  factor                   6     \n",
      "  numeric                  10    \n",
      "________________________         \n",
      "Group variables            None  \n",
      "\n",
      "-- Variable type: factor -------------------------------------------------------\n",
      "# A tibble: 6 x 6\n",
      "  skim_variable n_missing complete_rate ordered n_unique\n",
      "* <chr>             <int>         <dbl> <lgl>      <int>\n",
      "1 Type                  0             1 FALSE          4\n",
      "2 Category              0             1 FALSE          3\n",
      "3 Post.Month            0             1 FALSE         12\n",
      "4 Post.Weekday          0             1 FALSE          7\n",
      "5 Post.Hour             0             1 FALSE         22\n",
      "6 Paid                  0             1 FALSE          2\n",
      "  top_counts                        \n",
      "* <chr>                             \n",
      "1 Pho: 425, Sta: 45, Lin: 22, Vid: 7\n",
      "2 1: 215, 3: 155, 2: 129            \n",
      "3 10: 60, 7: 52, 4: 50, 12: 50      \n",
      "4 7: 82, 6: 81, 4: 71, 1: 68        \n",
      "5 3: 105, 10: 78, 13: 52, 11: 44    \n",
      "6 0: 360, 1: 139                    \n",
      "\n",
      "-- Variable type: numeric ------------------------------------------------------\n",
      "# A tibble: 10 x 11\n",
      "   skim_variable          n_missing complete_rate    mean     sd    p0     p25\n",
      " * <chr>                      <int>         <dbl>   <dbl>  <dbl> <dbl>   <dbl>\n",
      " 1 Page.total.likes               0             1 123278. 16181. 81370 113028 \n",
      " 2 Total.Reach                    0             1  13923. 22759.   238   3308 \n",
      " 3 Total.Impressions              0             1  29631. 76874.   570   5690.\n",
      " 4 Lifetime.Engaged.Users         0             1    921.   986.     9    394.\n",
      " 5 Consumers                      0             1    799.   883.     9    332 \n",
      " 6 Consumptions                   0             1   1416.  2002.     9    508.\n",
      " 7 Impressions.liked              0             1  16792. 59848.   567   3982.\n",
      " 8 Reach.liked                    0             1   6594.  7687.   236   2179 \n",
      " 9 People.engaged.liked           0             1    611.   613.     9    291 \n",
      "10 Total.Interactions             0             1    212.   381.     0     71 \n",
      "      p50     p75    p100 hist \n",
      " *  <dbl>   <dbl>   <dbl> <chr>\n",
      " 1 129600 136393   139441 <U+2581><U+2581><U+2582><U+2582><U+2587>\n",
      " 2   5282  13184   180480 <U+2587><U+2581><U+2581><U+2581><U+2581>\n",
      " 3   9067  22213  1110282 <U+2587><U+2581><U+2581><U+2581><U+2581>\n",
      " 4    626   1062    11452 <U+2587><U+2581><U+2581><U+2581><U+2581>\n",
      " 5    554    958    11328 <U+2587><U+2581><U+2581><U+2581><U+2581>\n",
      " 6    852   1465    19779 <U+2587><U+2581><U+2581><U+2581><U+2581>\n",
      " 7   6258  14929  1107833 <U+2587><U+2581><U+2581><U+2581><U+2581>\n",
      " 8   3422   7994    51456 <U+2587><U+2581><U+2581><U+2581><U+2581>\n",
      " 9    413    656.    4376 <U+2587><U+2581><U+2581><U+2581><U+2581>\n",
      "10    124    229     6334 <U+2587><U+2581><U+2581><U+2581><U+2581>\n"
     ]
    }
   ],
   "source": [
    "#let's again see the variables and their summary\n",
    "skim(X)\n",
    "#now, no missing value 6 categorical , 10 numeric variable\n"
   ]
  },
  {
   "cell_type": "code",
   "execution_count": 142,
   "metadata": {},
   "outputs": [
    {
     "data": {
      "text/html": [
       "<ol class=list-inline>\n",
       "\t<li>399</li>\n",
       "\t<li>16</li>\n",
       "</ol>\n"
      ],
      "text/latex": [
       "\\begin{enumerate*}\n",
       "\\item 399\n",
       "\\item 16\n",
       "\\end{enumerate*}\n"
      ],
      "text/markdown": [
       "1. 399\n",
       "2. 16\n",
       "\n",
       "\n"
      ],
      "text/plain": [
       "[1] 399  16"
      ]
     },
     "metadata": {},
     "output_type": "display_data"
    },
    {
     "data": {
      "text/html": [
       "<ol class=list-inline>\n",
       "\t<li>100</li>\n",
       "\t<li>16</li>\n",
       "</ol>\n"
      ],
      "text/latex": [
       "\\begin{enumerate*}\n",
       "\\item 100\n",
       "\\item 16\n",
       "\\end{enumerate*}\n"
      ],
      "text/markdown": [
       "1. 100\n",
       "2. 16\n",
       "\n",
       "\n"
      ],
      "text/plain": [
       "[1] 100  16"
      ]
     },
     "metadata": {},
     "output_type": "display_data"
    },
    {
     "data": {
      "text/html": [
       "<ol class=list-inline>\n",
       "\t<li>399</li>\n",
       "\t<li>15</li>\n",
       "</ol>\n"
      ],
      "text/latex": [
       "\\begin{enumerate*}\n",
       "\\item 399\n",
       "\\item 15\n",
       "\\end{enumerate*}\n"
      ],
      "text/markdown": [
       "1. 399\n",
       "2. 15\n",
       "\n",
       "\n"
      ],
      "text/plain": [
       "[1] 399  15"
      ]
     },
     "metadata": {},
     "output_type": "display_data"
    }
   ],
   "source": [
    "#splitting into train and test\n",
    "set.seed(197)\n",
    "ind=sample(499,499*.8) # selecting randomly approx. 80% of observation from 499 observation\n",
    "X_train=X[ind,]\n",
    "X_test=X[-ind,]\n",
    "dim(X_train)  #399 16\n",
    "dim(X_test)   #100 16\n",
    "\n",
    "#train set\n",
    "y=X_train[,which(colnames(X)=='Lifetime.Engaged.Users')]\n",
    "X=X_train[,-which(colnames(X)=='Lifetime.Engaged.Users')]\n",
    "\n",
    "#test set\n",
    "y_test=X_test[,which(colnames(X_test)=='Lifetime.Engaged.Users')]\n",
    "X_test=X_test[,-which(colnames(X_test)=='Lifetime.Engaged.Users')]\n",
    "\n",
    "\n",
    "dim(X)  #now dimension of X is 399 x 15"
   ]
  },
  {
   "cell_type": "code",
   "execution_count": 143,
   "metadata": {},
   "outputs": [
    {
     "data": {
      "text/html": [
       "<ol class=list-inline>\n",
       "\t<li>2</li>\n",
       "\t<li>3</li>\n",
       "\t<li>4</li>\n",
       "\t<li>5</li>\n",
       "\t<li>6</li>\n",
       "\t<li>7</li>\n",
       "</ol>\n"
      ],
      "text/latex": [
       "\\begin{enumerate*}\n",
       "\\item 2\n",
       "\\item 3\n",
       "\\item 4\n",
       "\\item 5\n",
       "\\item 6\n",
       "\\item 7\n",
       "\\end{enumerate*}\n"
      ],
      "text/markdown": [
       "1. 2\n",
       "2. 3\n",
       "3. 4\n",
       "4. 5\n",
       "5. 6\n",
       "6. 7\n",
       "\n",
       "\n"
      ],
      "text/plain": [
       "[1] 2 3 4 5 6 7"
      ]
     },
     "metadata": {},
     "output_type": "display_data"
    }
   ],
   "source": [
    "\n",
    "cat_col=c(2,3,4,5,6,7) # a Variable containing the column indices of categorical variable\n",
    "\n",
    "cat_col#box plot and frequency tables for categorical variable\n",
    "data=cbind.data.frame(y,X)\n",
    "colnames(data)[1]=\"Lifetime.Engaged.Users\"\n"
   ]
  },
  {
   "cell_type": "code",
   "execution_count": 144,
   "metadata": {},
   "outputs": [],
   "source": [
    "library(ggplot2)\n",
    "library(RColorBrewer)"
   ]
  },
  {
   "cell_type": "code",
   "execution_count": 145,
   "metadata": {},
   "outputs": [
    {
     "data": {
      "text/plain": [
       "\n",
       "  Link  Photo Status  Video \n",
       "    19    345     32      3 "
      ]
     },
     "metadata": {},
     "output_type": "display_data"
    },
    {
     "data": {
      "image/png": "[encoded data removed]",
      "text/plain": [
       "plot without title"
      ]
     },
     "metadata": {},
     "output_type": "display_data"
    }
   ],
   "source": [
    "#Handling Type Variable \n",
    "ggplot(data,aes(x=Type,y=Lifetime.Engaged.Users,fill=Type))+\n",
    "  geom_boxplot()+scale_fill_brewer(palette = \"Dark2\")+theme_classic()\n",
    "table(X[,2])\n",
    "#'Photo' consists many outliers. 'Status', 'Link', 'Video' have long tail\n",
    "#clearly we see a ordering i.e. y increases from Link to Photo to Status to Video\n",
    "#so, we can assign a increasing number to these labels of category\n",
    "X[,2]=factor(X[,2],levels = c('Link','Photo','Status','Video'),labels = c(1,2,3,4))\n",
    "X[,2]=as.numeric(X[,2])"
   ]
  },
  {
   "cell_type": "code",
   "execution_count": 146,
   "metadata": {},
   "outputs": [
    {
     "data": {
      "text/plain": [
       "\n",
       "  1   2   3 \n",
       "174 101 124 "
      ]
     },
     "metadata": {},
     "output_type": "display_data"
    },
    {
     "data": {
      "image/png": "[encoded data removed]",
      "text/plain": [
       "plot without title"
      ]
     },
     "metadata": {},
     "output_type": "display_data"
    }
   ],
   "source": [
    "\n",
    "\n",
    "ggplot(data,aes(x=Category,y=Lifetime.Engaged.Users,fill=Category))+\n",
    "  geom_boxplot()+scale_fill_brewer(palette = \"Dark2\")+theme_classic()\n",
    "table(X[,3])\n",
    "#each label has outliers, category 1,2,3 contain 174,101,124 respectively\n",
    "#category 2 has long tail. all levels have almost same central tendency\n"
   ]
  },
  {
   "cell_type": "code",
   "execution_count": 147,
   "metadata": {},
   "outputs": [
    {
     "data": {
      "text/plain": [
       "\n",
       "  0   1 \n",
       "301  98 "
      ]
     },
     "metadata": {},
     "output_type": "display_data"
    },
    {
     "data": {
      "image/png": "[encoded data removed]",
      "text/plain": [
       "plot without title"
      ]
     },
     "metadata": {},
     "output_type": "display_data"
    }
   ],
   "source": [
    "\n",
    "ggplot(data,aes(x=Paid,y=Lifetime.Engaged.Users,fill=Paid))+\n",
    "  geom_boxplot()+scale_fill_brewer(palette = \"Dark2\")+theme_classic()\n",
    "table(X[,7])\n",
    "#each label has many outliers , paid 0 is more frequent (301)\n"
   ]
  },
  {
   "cell_type": "code",
   "execution_count": 148,
   "metadata": {},
   "outputs": [
    {
     "data": {
      "text/plain": [
       "\n",
       " 1  2  3  4  5  6  7  8  9 10 11 12 \n",
       "21 24 29 37 29 40 38 26 32 50 33 40 "
      ]
     },
     "metadata": {},
     "output_type": "display_data"
    },
    {
     "data": {
      "image/png": "[encoded data removed]",
      "text/plain": [
       "plot without title"
      ]
     },
     "metadata": {},
     "output_type": "display_data"
    }
   ],
   "source": [
    "ggplot(data,aes(x=Post.Month,y=Lifetime.Engaged.Users,fill=Post.Month))+\n",
    "  geom_boxplot()+scale_fill_brewer(palette = \"Paired\")+theme_classic()\n",
    "table(X[,4])\n",
    "#most frequent months are oct(50), dec(40)\n",
    "#seeing the graph we can group our months into three groups considering their central tendency\n",
    "#(1,2),(3,4,5,6,,7),(8,9,10,11,12)\n",
    "library(plyr)\n",
    "X[,4]=revalue(X[,4],c('1'='group1','2'='group1','3'='group2','4'='group2','5'='group2','6'='group2','7'='group2','8'='group3','9'='group3','10'='group3','11'='group3','12'='group3'))\n"
   ]
  },
  {
   "cell_type": "code",
   "execution_count": 149,
   "metadata": {},
   "outputs": [
    {
     "data": {
      "text/plain": [
       "\n",
       " 1  2  3  4  5  6  7  8  9 10 11 12 13 14 15 16 17 18 19 20 22 23 \n",
       " 4 30 85 29 11 14  9  9 25 63 34 21 40 11  4  1  3  3  1  1  1  0 "
      ]
     },
     "metadata": {},
     "output_type": "display_data"
    },
    {
     "data": {
      "image/png": "[encoded data removed]",
      "text/plain": [
       "plot without title"
      ]
     },
     "metadata": {},
     "output_type": "display_data"
    }
   ],
   "source": [
    "ggplot(data,aes(x=Post.Hour,y=Lifetime.Engaged.Users,fill=Post.Hour))+\n",
    "  geom_boxplot()+theme_classic()\n",
    "table(X[,6])\n",
    "#it is clear that there are only one observation in hour 16,19,20,22,hour 23 has no value\n",
    "#seeing the plot we can group the hours in evening(15-22),night(23-4),morning(5-9),day(10-14)\n",
    "X[,6]=revalue(X[,6],c('23'='night','1'='night','2'='night','3'='night','4'='night','5'='morning','6'='morning','7'='morning','8'='morning','9'='morning','10'='day','11'='day','12'='day','13'='day','14'='day','15'='evening','16'='evening','17'='evening','18'='evening','19'='evening','20'='evening','22'='evening'))\n",
    "\n"
   ]
  },
  {
   "cell_type": "code",
   "execution_count": 150,
   "metadata": {},
   "outputs": [
    {
     "data": {
      "text/plain": [
       "\n",
       " 1  2  3  4  5  6  7 \n",
       "58 53 49 56 52 68 63 "
      ]
     },
     "metadata": {},
     "output_type": "display_data"
    },
    {
     "data": {
      "image/png": "[encoded data removed]",
      "text/plain": [
       "plot without title"
      ]
     },
     "metadata": {},
     "output_type": "display_data"
    }
   ],
   "source": [
    "\n",
    "ggplot(data,aes(x=Post.Weekday,y=Lifetime.Engaged.Users,fill=Post.Weekday))+\n",
    "  geom_boxplot()+scale_fill_brewer(palette = \"Dark2\")+theme_classic()\n",
    "table(X[,5])\n",
    "#all the observations are almost equally distributed among the levels, their central tendency also near about same but among them day 4 has highest central tendency\n",
    "# here we can group these into weekday and weekened\n",
    "X[,5]=revalue(X[,5],c('1'='weekday','2'='weekday','3'='weekday','4'='weekday','5'='weekday','6'='weekend','7'='weekend'))\n"
   ]
  },
  {
   "cell_type": "code",
   "execution_count": 151,
   "metadata": {},
   "outputs": [
    {
     "data": {
      "text/html": [
       "<table>\n",
       "<thead><tr><th></th><th scope=col>Page.total.likes</th><th scope=col>Type</th><th scope=col>Total.Reach</th><th scope=col>Total.Impressions</th><th scope=col>Consumers</th><th scope=col>Consumptions</th><th scope=col>Impressions.liked</th><th scope=col>Reach.liked</th><th scope=col>People.engaged.liked</th><th scope=col>Total.Interactions</th></tr></thead>\n",
       "<tbody>\n",
       "\t<tr><th scope=row>Page.total.likes</th><td> 1.00000000</td><td>0.19588706 </td><td>-0.07898343</td><td>-0.10082818</td><td>-0.1810288 </td><td>-0.1309026 </td><td>-0.10701146</td><td>-0.08373285</td><td>0.01319878 </td><td>0.02616364 </td></tr>\n",
       "\t<tr><th scope=row>Type</th><td> 0.19588706</td><td>1.00000000 </td><td> 0.04969194</td><td> 0.02943978</td><td> 0.4884293 </td><td> 0.2350372 </td><td> 0.03292222</td><td> 0.14945310</td><td>0.51282596 </td><td>0.05934420 </td></tr>\n",
       "\t<tr><th scope=row>Total.Reach</th><td>-0.07898343</td><td>0.04969194 </td><td> 1.00000000</td><td> 0.65387062</td><td> 0.4654033 </td><td> 0.2620303 </td><td> 0.31776237</td><td> 0.73681831</td><td>0.38987190 </td><td>0.48429775 </td></tr>\n",
       "\t<tr><th scope=row>Total.Impressions</th><td>-0.10082818</td><td>0.02943978 </td><td> 0.65387062</td><td> 1.00000000</td><td> 0.3335410 </td><td> 0.2032278 </td><td> 0.87493643</td><td> 0.64684875</td><td>0.32973666 </td><td>0.32763053 </td></tr>\n",
       "\t<tr><th scope=row>Consumers</th><td>-0.18102875</td><td>0.48842927 </td><td> 0.46540329</td><td> 0.33354095</td><td> 1.0000000 </td><td> 0.5895780 </td><td> 0.28045424</td><td> 0.59501859</td><td>0.91507175 </td><td>0.41823366 </td></tr>\n",
       "\t<tr><th scope=row>Consumptions</th><td>-0.13090257</td><td>0.23503724 </td><td> 0.26203031</td><td> 0.20322781</td><td> 0.5895780 </td><td> 1.0000000 </td><td> 0.17131101</td><td> 0.34541205</td><td>0.53381412 </td><td>0.22896113 </td></tr>\n",
       "\t<tr><th scope=row>Impressions.liked</th><td>-0.10701146</td><td>0.03292222 </td><td> 0.31776237</td><td> 0.87493643</td><td> 0.2804542 </td><td> 0.1713110 </td><td> 1.00000000</td><td> 0.59772542</td><td>0.33418363 </td><td>0.29146004 </td></tr>\n",
       "\t<tr><th scope=row>Reach.liked</th><td>-0.08373285</td><td>0.14945310 </td><td> 0.73681831</td><td> 0.64684875</td><td> 0.5950186 </td><td> 0.3454121 </td><td> 0.59772542</td><td> 1.00000000</td><td>0.66565469 </td><td>0.64449764 </td></tr>\n",
       "\t<tr><th scope=row>People.engaged.liked</th><td> 0.01319878</td><td>0.51282596 </td><td> 0.38987190</td><td> 0.32973666</td><td> 0.9150718 </td><td> 0.5338141 </td><td> 0.33418363</td><td> 0.66565469</td><td>1.00000000 </td><td>0.52950544 </td></tr>\n",
       "\t<tr><th scope=row>Total.Interactions</th><td> 0.02616364</td><td>0.05934420 </td><td> 0.48429775</td><td> 0.32763053</td><td> 0.4182337 </td><td> 0.2289611 </td><td> 0.29146004</td><td> 0.64449764</td><td>0.52950544 </td><td>1.00000000 </td></tr>\n",
       "</tbody>\n",
       "</table>\n"
      ],
      "text/latex": [
       "\\begin{tabular}{r|llllllllll}\n",
       "  & Page.total.likes & Type & Total.Reach & Total.Impressions & Consumers & Consumptions & Impressions.liked & Reach.liked & People.engaged.liked & Total.Interactions\\\\\n",
       "\\hline\n",
       "\tPage.total.likes &  1.00000000 & 0.19588706  & -0.07898343 & -0.10082818 & -0.1810288  & -0.1309026  & -0.10701146 & -0.08373285 & 0.01319878  & 0.02616364 \\\\\n",
       "\tType &  0.19588706 & 1.00000000  &  0.04969194 &  0.02943978 &  0.4884293  &  0.2350372  &  0.03292222 &  0.14945310 & 0.51282596  & 0.05934420 \\\\\n",
       "\tTotal.Reach & -0.07898343 & 0.04969194  &  1.00000000 &  0.65387062 &  0.4654033  &  0.2620303  &  0.31776237 &  0.73681831 & 0.38987190  & 0.48429775 \\\\\n",
       "\tTotal.Impressions & -0.10082818 & 0.02943978  &  0.65387062 &  1.00000000 &  0.3335410  &  0.2032278  &  0.87493643 &  0.64684875 & 0.32973666  & 0.32763053 \\\\\n",
       "\tConsumers & -0.18102875 & 0.48842927  &  0.46540329 &  0.33354095 &  1.0000000  &  0.5895780  &  0.28045424 &  0.59501859 & 0.91507175  & 0.41823366 \\\\\n",
       "\tConsumptions & -0.13090257 & 0.23503724  &  0.26203031 &  0.20322781 &  0.5895780  &  1.0000000  &  0.17131101 &  0.34541205 & 0.53381412  & 0.22896113 \\\\\n",
       "\tImpressions.liked & -0.10701146 & 0.03292222  &  0.31776237 &  0.87493643 &  0.2804542  &  0.1713110  &  1.00000000 &  0.59772542 & 0.33418363  & 0.29146004 \\\\\n",
       "\tReach.liked & -0.08373285 & 0.14945310  &  0.73681831 &  0.64684875 &  0.5950186  &  0.3454121  &  0.59772542 &  1.00000000 & 0.66565469  & 0.64449764 \\\\\n",
       "\tPeople.engaged.liked &  0.01319878 & 0.51282596  &  0.38987190 &  0.32973666 &  0.9150718  &  0.5338141  &  0.33418363 &  0.66565469 & 1.00000000  & 0.52950544 \\\\\n",
       "\tTotal.Interactions &  0.02616364 & 0.05934420  &  0.48429775 &  0.32763053 &  0.4182337  &  0.2289611  &  0.29146004 &  0.64449764 & 0.52950544  & 1.00000000 \\\\\n",
       "\\end{tabular}\n"
      ],
      "text/markdown": [
       "\n",
       "| <!--/--> | Page.total.likes | Type | Total.Reach | Total.Impressions | Consumers | Consumptions | Impressions.liked | Reach.liked | People.engaged.liked | Total.Interactions |\n",
       "|---|---|---|---|---|---|---|---|---|---|---|\n",
       "| Page.total.likes |  1.00000000 | 0.19588706  | -0.07898343 | -0.10082818 | -0.1810288  | -0.1309026  | -0.10701146 | -0.08373285 | 0.01319878  | 0.02616364  |\n",
       "| Type |  0.19588706 | 1.00000000  |  0.04969194 |  0.02943978 |  0.4884293  |  0.2350372  |  0.03292222 |  0.14945310 | 0.51282596  | 0.05934420  |\n",
       "| Total.Reach | -0.07898343 | 0.04969194  |  1.00000000 |  0.65387062 |  0.4654033  |  0.2620303  |  0.31776237 |  0.73681831 | 0.38987190  | 0.48429775  |\n",
       "| Total.Impressions | -0.10082818 | 0.02943978  |  0.65387062 |  1.00000000 |  0.3335410  |  0.2032278  |  0.87493643 |  0.64684875 | 0.32973666  | 0.32763053  |\n",
       "| Consumers | -0.18102875 | 0.48842927  |  0.46540329 |  0.33354095 |  1.0000000  |  0.5895780  |  0.28045424 |  0.59501859 | 0.91507175  | 0.41823366  |\n",
       "| Consumptions | -0.13090257 | 0.23503724  |  0.26203031 |  0.20322781 |  0.5895780  |  1.0000000  |  0.17131101 |  0.34541205 | 0.53381412  | 0.22896113  |\n",
       "| Impressions.liked | -0.10701146 | 0.03292222  |  0.31776237 |  0.87493643 |  0.2804542  |  0.1713110  |  1.00000000 |  0.59772542 | 0.33418363  | 0.29146004  |\n",
       "| Reach.liked | -0.08373285 | 0.14945310  |  0.73681831 |  0.64684875 |  0.5950186  |  0.3454121  |  0.59772542 |  1.00000000 | 0.66565469  | 0.64449764  |\n",
       "| People.engaged.liked |  0.01319878 | 0.51282596  |  0.38987190 |  0.32973666 |  0.9150718  |  0.5338141  |  0.33418363 |  0.66565469 | 1.00000000  | 0.52950544  |\n",
       "| Total.Interactions |  0.02616364 | 0.05934420  |  0.48429775 |  0.32763053 |  0.4182337  |  0.2289611  |  0.29146004 |  0.64449764 | 0.52950544  | 1.00000000  |\n",
       "\n"
      ],
      "text/plain": [
       "                     Page.total.likes Type       Total.Reach Total.Impressions\n",
       "Page.total.likes      1.00000000      0.19588706 -0.07898343 -0.10082818      \n",
       "Type                  0.19588706      1.00000000  0.04969194  0.02943978      \n",
       "Total.Reach          -0.07898343      0.04969194  1.00000000  0.65387062      \n",
       "Total.Impressions    -0.10082818      0.02943978  0.65387062  1.00000000      \n",
       "Consumers            -0.18102875      0.48842927  0.46540329  0.33354095      \n",
       "Consumptions         -0.13090257      0.23503724  0.26203031  0.20322781      \n",
       "Impressions.liked    -0.10701146      0.03292222  0.31776237  0.87493643      \n",
       "Reach.liked          -0.08373285      0.14945310  0.73681831  0.64684875      \n",
       "People.engaged.liked  0.01319878      0.51282596  0.38987190  0.32973666      \n",
       "Total.Interactions    0.02616364      0.05934420  0.48429775  0.32763053      \n",
       "                     Consumers  Consumptions Impressions.liked Reach.liked\n",
       "Page.total.likes     -0.1810288 -0.1309026   -0.10701146       -0.08373285\n",
       "Type                  0.4884293  0.2350372    0.03292222        0.14945310\n",
       "Total.Reach           0.4654033  0.2620303    0.31776237        0.73681831\n",
       "Total.Impressions     0.3335410  0.2032278    0.87493643        0.64684875\n",
       "Consumers             1.0000000  0.5895780    0.28045424        0.59501859\n",
       "Consumptions          0.5895780  1.0000000    0.17131101        0.34541205\n",
       "Impressions.liked     0.2804542  0.1713110    1.00000000        0.59772542\n",
       "Reach.liked           0.5950186  0.3454121    0.59772542        1.00000000\n",
       "People.engaged.liked  0.9150718  0.5338141    0.33418363        0.66565469\n",
       "Total.Interactions    0.4182337  0.2289611    0.29146004        0.64449764\n",
       "                     People.engaged.liked Total.Interactions\n",
       "Page.total.likes     0.01319878           0.02616364        \n",
       "Type                 0.51282596           0.05934420        \n",
       "Total.Reach          0.38987190           0.48429775        \n",
       "Total.Impressions    0.32973666           0.32763053        \n",
       "Consumers            0.91507175           0.41823366        \n",
       "Consumptions         0.53381412           0.22896113        \n",
       "Impressions.liked    0.33418363           0.29146004        \n",
       "Reach.liked          0.66565469           0.64449764        \n",
       "People.engaged.liked 1.00000000           0.52950544        \n",
       "Total.Interactions   0.52950544           1.00000000        "
      ]
     },
     "metadata": {},
     "output_type": "display_data"
    },
    {
     "data": {
      "text/html": [
       "<table>\n",
       "<tbody>\n",
       "\t<tr><th scope=row>Page.total.likes</th><td>-0.1404654</td></tr>\n",
       "\t<tr><th scope=row>Type</th><td> 0.4348998</td></tr>\n",
       "\t<tr><th scope=row>Total.Reach</th><td> 0.5419739</td></tr>\n",
       "\t<tr><th scope=row>Total.Impressions</th><td> 0.3746976</td></tr>\n",
       "\t<tr><th scope=row>Consumers</th><td> 0.9695748</td></tr>\n",
       "\t<tr><th scope=row>Consumptions</th><td> 0.5618013</td></tr>\n",
       "\t<tr><th scope=row>Impressions.liked</th><td> 0.3151980</td></tr>\n",
       "\t<tr><th scope=row>Reach.liked</th><td> 0.6906750</td></tr>\n",
       "\t<tr><th scope=row>People.engaged.liked</th><td> 0.9288043</td></tr>\n",
       "\t<tr><th scope=row>Total.Interactions</th><td> 0.6205491</td></tr>\n",
       "</tbody>\n",
       "</table>\n"
      ],
      "text/latex": [
       "\\begin{tabular}{r|l}\n",
       "\tPage.total.likes & -0.1404654\\\\\n",
       "\tType &  0.4348998\\\\\n",
       "\tTotal.Reach &  0.5419739\\\\\n",
       "\tTotal.Impressions &  0.3746976\\\\\n",
       "\tConsumers &  0.9695748\\\\\n",
       "\tConsumptions &  0.5618013\\\\\n",
       "\tImpressions.liked &  0.3151980\\\\\n",
       "\tReach.liked &  0.6906750\\\\\n",
       "\tPeople.engaged.liked &  0.9288043\\\\\n",
       "\tTotal.Interactions &  0.6205491\\\\\n",
       "\\end{tabular}\n"
      ],
      "text/markdown": [
       "\n",
       "| Page.total.likes | -0.1404654 |\n",
       "| Type |  0.4348998 |\n",
       "| Total.Reach |  0.5419739 |\n",
       "| Total.Impressions |  0.3746976 |\n",
       "| Consumers |  0.9695748 |\n",
       "| Consumptions |  0.5618013 |\n",
       "| Impressions.liked |  0.3151980 |\n",
       "| Reach.liked |  0.6906750 |\n",
       "| People.engaged.liked |  0.9288043 |\n",
       "| Total.Interactions |  0.6205491 |\n",
       "\n"
      ],
      "text/plain": [
       "                     [,1]      \n",
       "Page.total.likes     -0.1404654\n",
       "Type                  0.4348998\n",
       "Total.Reach           0.5419739\n",
       "Total.Impressions     0.3746976\n",
       "Consumers             0.9695748\n",
       "Consumptions          0.5618013\n",
       "Impressions.liked     0.3151980\n",
       "Reach.liked           0.6906750\n",
       "People.engaged.liked  0.9288043\n",
       "Total.Interactions    0.6205491"
      ]
     },
     "metadata": {},
     "output_type": "display_data"
    },
    {
     "data": {
      "image/png": "[encoded data removed]",
      "text/plain": [
       "plot without title"
      ]
     },
     "metadata": {},
     "output_type": "display_data"
    }
   ],
   "source": [
    "\n",
    "#now our categorical column has decreased\n",
    "cat_col=c(3,4,5,6,7)\n",
    "#Normalization\n",
    "X[,-cat_col]=scale(X[,-cat_col])\n",
    "#correlation among numeric variables\n",
    "pairs(X[,-cat_col])\n",
    "cor(X[,-cat_col])\n",
    "cor(X[,-cat_col],y)\n"
   ]
  },
  {
   "cell_type": "code",
   "execution_count": 152,
   "metadata": {},
   "outputs": [],
   "source": [
    "library(fastDummies)"
   ]
  },
  {
   "cell_type": "code",
   "execution_count": 153,
   "metadata": {},
   "outputs": [
    {
     "data": {
      "text/html": [
       "5"
      ],
      "text/latex": [
       "5"
      ],
      "text/markdown": [
       "5"
      ],
      "text/plain": [
       "[1] 5"
      ]
     },
     "metadata": {},
     "output_type": "display_data"
    },
    {
     "data": {
      "text/html": [
       "<ol class=list-inline>\n",
       "\t<li>399</li>\n",
       "\t<li>19</li>\n",
       "</ol>\n"
      ],
      "text/latex": [
       "\\begin{enumerate*}\n",
       "\\item 399\n",
       "\\item 19\n",
       "\\end{enumerate*}\n"
      ],
      "text/markdown": [
       "1. 399\n",
       "2. 19\n",
       "\n",
       "\n"
      ],
      "text/plain": [
       "[1] 399  19"
      ]
     },
     "metadata": {},
     "output_type": "display_data"
    }
   ],
   "source": [
    "\n",
    "# indicator Variable\n",
    "library(fastDummies)\n",
    "length(cat_col) #5\n",
    "X=dummy_cols(X,select_columns =colnames(X)[ cat_col],remove_first_dummy = T,remove_selected_columns = T)\n",
    "dim(X)  #399 x 19"
   ]
  },
  {
   "cell_type": "code",
   "execution_count": 154,
   "metadata": {},
   "outputs": [],
   "source": [
    "# a function for modification in test set which include categorical variable modification, normalization, indicator variable\n",
    "convert=function(X){\n",
    "  X[,2]=factor(X[,2],levels = c('Link','Photo','Status','Video'),labels = c(1,2,3,4))\n",
    "  X[,2]=as.numeric(X[,2])\n",
    "  X[,4]=revalue(X[,4],c('1'='group1','2'='group1','3'='group2','4'='group2','5'='group2','6'='group2','7'='group2','8'='group3','9'='group3','10'='group3','11'='group3','12'='group3'))\n",
    "  X[,6]=revalue(X[,6],c('23'='night','1'='night','2'='night','3'='night','4'='night','5'='morning','6'='morning','7'='morning','8'='morning','9'='morning','10'='day','11'='day','12'='day','13'='day','14'='day','15'='evening','16'='evening','17'='evening','18'='evening','19'='evening','20'='evening','22'='evening'))\n",
    "  X[,5]=revalue(X[,5],c('1'='weekday','2'='weekday','3'='weekday','4'='weekday','5'='weekday','6'='weekend','7'='weekend'))\n",
    "  cat_col=c(3,4,5,6,7)\n",
    "  X[,-cat_col]=scale(X[,-cat_col])\n",
    "  X=dummy_cols(X,select_columns =colnames(X)[ cat_col],remove_first_dummy = T,remove_selected_columns = T)\n",
    "  \n",
    "  return(X)\n",
    "}\n",
    "X_test=convert(X_test)"
   ]
  },
  {
   "cell_type": "code",
   "execution_count": 155,
   "metadata": {},
   "outputs": [
    {
     "data": {
      "text/html": [
       "19"
      ],
      "text/latex": [
       "19"
      ],
      "text/markdown": [
       "19"
      ],
      "text/plain": [
       "[1] 19"
      ]
     },
     "metadata": {},
     "output_type": "display_data"
    },
    {
     "data": {
      "text/html": [
       "399"
      ],
      "text/latex": [
       "399"
      ],
      "text/markdown": [
       "399"
      ],
      "text/plain": [
       "[1] 399"
      ]
     },
     "metadata": {},
     "output_type": "display_data"
    },
    {
     "data": {
      "text/html": [
       "<ol class=list-inline>\n",
       "\t<li>100</li>\n",
       "\t<li>19</li>\n",
       "</ol>\n"
      ],
      "text/latex": [
       "\\begin{enumerate*}\n",
       "\\item 100\n",
       "\\item 19\n",
       "\\end{enumerate*}\n"
      ],
      "text/markdown": [
       "1. 100\n",
       "2. 19\n",
       "\n",
       "\n"
      ],
      "text/plain": [
       "[1] 100  19"
      ]
     },
     "metadata": {},
     "output_type": "display_data"
    }
   ],
   "source": [
    "p=(dim(X))[2]   \n",
    "p     #no. of predictors   19\n",
    "n=(dim(X))[1]\n",
    "n     #no. of observation  399\n",
    "dim(X_test)"
   ]
  },
  {
   "cell_type": "code",
   "execution_count": 156,
   "metadata": {},
   "outputs": [
    {
     "name": "stderr",
     "output_type": "stream",
     "text": [
      "Warning message:\n",
      "\"package 'olsrr' is in use and will not be installed\""
     ]
    }
   ],
   "source": [
    "install.packages(\"olsrr\")"
   ]
  },
  {
   "cell_type": "code",
   "execution_count": 157,
   "metadata": {},
   "outputs": [
    {
     "data": {
      "text/plain": [
       "\n",
       "Call:\n",
       "lm(formula = y ~ ., data = my_data)\n",
       "\n",
       "Residuals:\n",
       "    Min      1Q  Median      3Q     Max \n",
       "-316.49  -14.60    1.52   14.07  233.63 \n",
       "\n",
       "Coefficients:\n",
       "                     Estimate Std. Error t value Pr(>|t|)    \n",
       "(Intercept)          873.5529    14.7260  59.321  < 2e-16 ***\n",
       "Page.total.likes       4.0530     5.3029   0.764   0.4452    \n",
       "Type                  -2.3758     2.8198  -0.843   0.4000    \n",
       "Total.Reach           58.9381     8.6817   6.789 4.38e-11 ***\n",
       "Total.Impressions    -57.6205    11.0707  -5.205 3.19e-07 ***\n",
       "Consumers            605.6521     8.7876  68.922  < 2e-16 ***\n",
       "Consumptions          -5.1427     2.7782  -1.851   0.0649 .  \n",
       "Impressions.liked     41.2835    10.1558   4.065 5.84e-05 ***\n",
       "Reach.liked          -14.5050     7.0468  -2.058   0.0402 *  \n",
       "People.engaged.liked  47.6695     9.2135   5.174 3.72e-07 ***\n",
       "Total.Interactions   178.2323     3.2223  55.312  < 2e-16 ***\n",
       "Category_2             0.8342     6.1741   0.135   0.8926    \n",
       "Category_3             1.9166     5.7475   0.333   0.7390    \n",
       "Post.Month_group2    -17.4648    12.7840  -1.366   0.1727    \n",
       "Post.Month_group3    -15.2055    18.0433  -0.843   0.3999    \n",
       "Post.Weekday_weekend  -0.9547     4.6193  -0.207   0.8364    \n",
       "Post.Hour_morning     12.3763     6.3255   1.957   0.0511 .  \n",
       "Post.Hour_day          2.8415     4.8098   0.591   0.5550    \n",
       "Post.Hour_evening     15.1271    13.1813   1.148   0.2519    \n",
       "Paid_1                 8.0671     4.9500   1.630   0.1040    \n",
       "---\n",
       "Signif. codes:  0 '***' 0.001 '**' 0.01 '*' 0.05 '.' 0.1 ' ' 1\n",
       "\n",
       "Residual standard error: 41.66 on 379 degrees of freedom\n",
       "Multiple R-squared:  0.9971,\tAdjusted R-squared:  0.9969 \n",
       "F-statistic:  6843 on 19 and 379 DF,  p-value: < 2.2e-16\n"
      ]
     },
     "metadata": {},
     "output_type": "display_data"
    },
    {
     "data": {
      "text/html": [
       "<ol class=list-inline>\n",
       "\t<li>399</li>\n",
       "\t<li>20</li>\n",
       "</ol>\n"
      ],
      "text/latex": [
       "\\begin{enumerate*}\n",
       "\\item 399\n",
       "\\item 20\n",
       "\\end{enumerate*}\n"
      ],
      "text/markdown": [
       "1. 399\n",
       "2. 20\n",
       "\n",
       "\n"
      ],
      "text/plain": [
       "[1] 399  20"
      ]
     },
     "metadata": {},
     "output_type": "display_data"
    },
    {
     "name": "stdout",
     "output_type": "stream",
     "text": [
      "MAPE 0.3498235"
     ]
    }
   ],
   "source": [
    "library(olsrr)\n",
    "my_data=cbind(y,X)\n",
    "model=lm(y~.,data=my_data)\n",
    "summary(model)      # multiple R squared=.9971,  Adjusted R square=0.9969\n",
    "dim(my_data)  #399  19\n",
    "predictions <- predict(model, X_test)\n",
    "MAPE(predictions,y_test)  #MAPE 0.3498  "
   ]
  },
  {
   "cell_type": "code",
   "execution_count": 158,
   "metadata": {},
   "outputs": [
    {
     "data": {
      "text/html": [
       "5"
      ],
      "text/latex": [
       "5"
      ],
      "text/markdown": [
       "5"
      ],
      "text/plain": [
       "[1] 5"
      ]
     },
     "metadata": {},
     "output_type": "display_data"
    },
    {
     "data": {
      "text/plain": [
       "\n",
       "Call:\n",
       "lm(formula = y ~ ., data = my_data1)\n",
       "\n",
       "Residuals:\n",
       "    Min      1Q  Median      3Q     Max \n",
       "-338.15  -13.59    2.83   14.66  215.62 \n",
       "\n",
       "Coefficients:\n",
       "                     Estimate Std. Error t value Pr(>|t|)    \n",
       "(Intercept)          887.2886    14.5272  61.078  < 2e-16 ***\n",
       "Page.total.likes       8.3576     5.1629   1.619  0.10634    \n",
       "Type                  -3.2578     2.7032  -1.205  0.22890    \n",
       "Total.Reach           68.6141     9.4654   7.249 2.43e-12 ***\n",
       "Total.Impressions    -89.5268    16.6509  -5.377 1.34e-07 ***\n",
       "Consumers            602.7834     8.6434  69.740  < 2e-16 ***\n",
       "Consumptions          -6.4668     3.4036  -1.900  0.05820 .  \n",
       "Impressions.liked     77.7228    23.9431   3.246  0.00128 ** \n",
       "Reach.liked          -22.2853     9.3869  -2.374  0.01810 *  \n",
       "People.engaged.liked  53.6517     9.0813   5.908 7.80e-09 ***\n",
       "Total.Interactions   181.3531     3.1814  57.003  < 2e-16 ***\n",
       "Category_2            -2.0362     5.9315  -0.343  0.73157    \n",
       "Category_3             0.9582     5.5281   0.173  0.86249    \n",
       "Post.Month_group2    -28.7818    12.5602  -2.292  0.02249 *  \n",
       "Post.Month_group3    -30.4241    17.6886  -1.720  0.08626 .  \n",
       "Post.Weekday_weekend  -2.5476     4.4455  -0.573  0.56694    \n",
       "Post.Hour_morning     10.8332     6.0797   1.782  0.07558 .  \n",
       "Post.Hour_day          2.3427     4.6280   0.506  0.61302    \n",
       "Post.Hour_evening     20.4061    12.7623   1.599  0.11068    \n",
       "Paid_1                 7.4240     4.7673   1.557  0.12025    \n",
       "---\n",
       "Signif. codes:  0 '***' 0.001 '**' 0.01 '*' 0.05 '.' 0.1 ' ' 1\n",
       "\n",
       "Residual standard error: 39.77 on 374 degrees of freedom\n",
       "Multiple R-squared:  0.9972,\tAdjusted R-squared:  0.9971 \n",
       "F-statistic:  7004 on 19 and 374 DF,  p-value: < 2.2e-16\n"
      ]
     },
     "metadata": {},
     "output_type": "display_data"
    },
    {
     "data": {
      "text/html": [
       "<ol class=list-inline>\n",
       "\t<li>394</li>\n",
       "\t<li>20</li>\n",
       "</ol>\n"
      ],
      "text/latex": [
       "\\begin{enumerate*}\n",
       "\\item 394\n",
       "\\item 20\n",
       "\\end{enumerate*}\n"
      ],
      "text/markdown": [
       "1. 394\n",
       "2. 20\n",
       "\n",
       "\n"
      ],
      "text/plain": [
       "[1] 394  20"
      ]
     },
     "metadata": {},
     "output_type": "display_data"
    },
    {
     "name": "stdout",
     "output_type": "stream",
     "text": [
      "MAPE 0.336696"
     ]
    },
    {
     "data": {
      "image/png": "[encoded data removed]",
      "text/plain": [
       "plot without title"
      ]
     },
     "metadata": {},
     "output_type": "display_data"
    }
   ],
   "source": [
    "\n",
    "#leverage points\n",
    "hat_value=hatvalues(model)\n",
    "par(mfrow=c(1,1))\n",
    "plot(hat_value,xlab =\"observation\",ylab=\"hat_values\",col=(hat_value>0.6)+1)\n",
    "abline(h=0.3,col=\"red\")\n",
    "lev_point=which(hat_value>0.3)      # it provides row no of data corresponding to which high hat values\n",
    "length(lev_point)  # 5\n",
    "my_data1=my_data[-lev_point,]\n",
    "#c=which(colSums(my_data1)==0)\n",
    "#c\n",
    "#my_data1=my_data1[,-c]\n",
    "#X.test=X_test[,-(c-1)]\n",
    "row.names(my_data1)=as.character(seq(1,dim(my_data1)[1]))   # assigning row names to each row of data\n",
    "model1=lm(y~.,my_data1)\n",
    "summary(model1)\n",
    "dim(my_data1)\n",
    "predictions <- predict(model1, X_test)\n",
    "MAPE(predictions,y_test) ##MAPE 0.3366"
   ]
  },
  {
   "cell_type": "code",
   "execution_count": 159,
   "metadata": {},
   "outputs": [
    {
     "data": {
      "text/html": [
       "3"
      ],
      "text/latex": [
       "3"
      ],
      "text/markdown": [
       "3"
      ],
      "text/plain": [
       "[1] 3"
      ]
     },
     "metadata": {},
     "output_type": "display_data"
    },
    {
     "data": {
      "image/png": "[encoded data removed]",
      "text/plain": [
       "plot without title"
      ]
     },
     "metadata": {},
     "output_type": "display_data"
    },
    {
     "data": {
      "image/png": "[encoded data removed]",
      "text/plain": [
       "plot without title"
      ]
     },
     "metadata": {},
     "output_type": "display_data"
    }
   ],
   "source": [
    "\n",
    "\n",
    "# cooks distance\n",
    "cd=cooks.distance(model1)\n",
    "plot(cd,xlab=\"observation\",ylab=\"cooks distance\")\n",
    "abline(h=0.25,col=\"red\")\n",
    "inf_cd=which(cd>0.25)\n",
    "length(inf_cd) #3\n",
    "ols_plot_cooksd_bar(model1)"
   ]
  },
  {
   "cell_type": "code",
   "execution_count": 160,
   "metadata": {},
   "outputs": [
    {
     "data": {
      "image/png": "[encoded data removed]",
      "text/plain": [
       "plot without title"
      ]
     },
     "metadata": {},
     "output_type": "display_data"
    },
    {
     "data": {
      "text/html": [
       "3"
      ],
      "text/latex": [
       "3"
      ],
      "text/markdown": [
       "3"
      ],
      "text/plain": [
       "[1] 3"
      ]
     },
     "metadata": {},
     "output_type": "display_data"
    },
    {
     "data": {
      "image/png": "[encoded data removed]",
      "text/plain": [
       "plot without title"
      ]
     },
     "metadata": {},
     "output_type": "display_data"
    }
   ],
   "source": [
    "\n",
    "# DFFITS\n",
    "df_fit=dffits(model1)\n",
    "plot(1:length(df_fit),df_fit,xlab=\"observation\",ylab=\"DFFIT\")\n",
    "abline(h=c(2.5,-2.5),col=\"red\")\n",
    "ols_plot_dffits(model1)\n",
    "influence_DFFIT=which(abs(df_fit)>2.5)\n",
    "length(influence_DFFIT)  #3"
   ]
  },
  {
   "cell_type": "code",
   "execution_count": 161,
   "metadata": {},
   "outputs": [
    {
     "data": {
      "text/html": [
       "<ol class=list-inline>\n",
       "\t<li>394</li>\n",
       "\t<li>20</li>\n",
       "</ol>\n"
      ],
      "text/latex": [
       "\\begin{enumerate*}\n",
       "\\item 394\n",
       "\\item 20\n",
       "\\end{enumerate*}\n"
      ],
      "text/markdown": [
       "1. 394\n",
       "2. 20\n",
       "\n",
       "\n"
      ],
      "text/plain": [
       "[1] 394  20"
      ]
     },
     "metadata": {},
     "output_type": "display_data"
    },
    {
     "data": {
      "text/html": [
       "10"
      ],
      "text/latex": [
       "10"
      ],
      "text/markdown": [
       "10"
      ],
      "text/plain": [
       "[1] 10"
      ]
     },
     "metadata": {},
     "output_type": "display_data"
    }
   ],
   "source": [
    "\n",
    "\n",
    "\n",
    "####DFBETA######\n",
    "DFBETA_ij=dfbetas(model1)\n",
    "dim(my_data1)  #394 20\n",
    "influence_DFBETA=c()\n",
    "for(j in 2:10)\n",
    "  influence_DFBETA=c(influence_DFBETA ,which(abs(DFBETA_ij[,j])>2/sqrt(394)) )\n",
    "influence_DFBETA = as.numeric(names(which( table(influence_DFBETA)>=7) ) )\n",
    "length(influence_DFBETA) #10"
   ]
  },
  {
   "cell_type": "code",
   "execution_count": 162,
   "metadata": {},
   "outputs": [
    {
     "data": {
      "text/html": [
       "6"
      ],
      "text/latex": [
       "6"
      ],
      "text/markdown": [
       "6"
      ],
      "text/plain": [
       "[1] 6"
      ]
     },
     "metadata": {},
     "output_type": "display_data"
    },
    {
     "data": {
      "image/png": "[encoded data removed]",
      "text/plain": [
       "Plot with title \"Fig 3:COVRATIO for training data Red:influential points and Black :Non\""
      ]
     },
     "metadata": {},
     "output_type": "display_data"
    }
   ],
   "source": [
    "\n",
    "\n",
    "#covratio\n",
    "COVRATIO=covratio(model1)\n",
    "par(mfrow=c(1,1))\n",
    "plot(COVRATIO,main=\"Fig 3:COVRATIO for training data Red:influential points and Black :Non\",\n",
    "     col=(abs(COVRATIO-1)>1)+1,cex.main=0.85, pch=20)\n",
    "abline(h=c( 1.5, 0.5) , col=\"red\", lwd=2, lty=\"dotted\")#check threshold\n",
    "influence_COVRATIO1=which(abs(COVRATIO)>1.5)\n",
    "influence_COVRATIO2=which(abs(COVRATIO)<0.4)\n",
    "influence_COVRATIO=length(influence_COVRATIO1)+length(influence_COVRATIO2) # 6\n",
    "influence_COVRATIO\n"
   ]
  },
  {
   "cell_type": "code",
   "execution_count": 163,
   "metadata": {},
   "outputs": [
    {
     "data": {
      "text/html": [
       "3"
      ],
      "text/latex": [
       "3"
      ],
      "text/markdown": [
       "3"
      ],
      "text/plain": [
       "[1] 3"
      ]
     },
     "metadata": {},
     "output_type": "display_data"
    },
    {
     "data": {
      "text/html": [],
      "text/latex": [],
      "text/markdown": [],
      "text/plain": [
       "named integer(0)"
      ]
     },
     "metadata": {},
     "output_type": "display_data"
    },
    {
     "data": {
      "text/html": [
       "<ol class=list-inline>\n",
       "\t<li>391</li>\n",
       "\t<li>20</li>\n",
       "</ol>\n"
      ],
      "text/latex": [
       "\\begin{enumerate*}\n",
       "\\item 391\n",
       "\\item 20\n",
       "\\end{enumerate*}\n"
      ],
      "text/markdown": [
       "1. 391\n",
       "2. 20\n",
       "\n",
       "\n"
      ],
      "text/plain": [
       "[1] 391  20"
      ]
     },
     "metadata": {},
     "output_type": "display_data"
    }
   ],
   "source": [
    "\n",
    "#####Final Influential#####\n",
    "influential = sort(( c(inf_cd,influence_DFBETA,influence_DFFIT,influence_COVRATIO ) ))\n",
    "final=as.numeric(names(which(table(influential)>=2)))\n",
    "length(final)  #3\n",
    "my_data2=my_data1[-final,]\n",
    "which(colSums(my_data2)==0) #0\n",
    "#row.names(my_data2)=as.character(seq(1,dim(my_data2)[1]))\n",
    "dim(my_data2)  #391  20"
   ]
  },
  {
   "cell_type": "code",
   "execution_count": 164,
   "metadata": {},
   "outputs": [
    {
     "data": {
      "text/plain": [
       "\n",
       "Call:\n",
       "lm(formula = y ~ ., data = my_data2)\n",
       "\n",
       "Residuals:\n",
       "     Min       1Q   Median       3Q      Max \n",
       "-146.850  -14.496    3.641   15.071  194.887 \n",
       "\n",
       "Coefficients:\n",
       "                     Estimate Std. Error t value Pr(>|t|)    \n",
       "(Intercept)           887.450     12.198  72.756  < 2e-16 ***\n",
       "Page.total.likes        7.490      4.388   1.707  0.08867 .  \n",
       "Type                   -4.490      2.268  -1.980  0.04846 *  \n",
       "Total.Reach            54.302      8.187   6.632 1.17e-10 ***\n",
       "Total.Impressions     -79.080     14.318  -5.523 6.27e-08 ***\n",
       "Consumers             613.459      7.325  83.751  < 2e-16 ***\n",
       "Consumptions           -7.498      2.853  -2.628  0.00894 ** \n",
       "Impressions.liked     103.977     24.459   4.251 2.70e-05 ***\n",
       "Reach.liked           -27.361      8.882  -3.080  0.00222 ** \n",
       "People.engaged.liked   45.941      7.700   5.967 5.65e-09 ***\n",
       "Total.Interactions    190.558      3.159  60.322  < 2e-16 ***\n",
       "Category_2             -7.976      5.016  -1.590  0.11263    \n",
       "Category_3             -5.887      4.695  -1.254  0.21067    \n",
       "Post.Month_group2     -20.111     10.698  -1.880  0.06092 .  \n",
       "Post.Month_group3     -20.236     14.960  -1.353  0.17700    \n",
       "Post.Weekday_weekend   -4.543      3.736  -1.216  0.22470    \n",
       "Post.Hour_morning      11.256      5.101   2.207  0.02795 *  \n",
       "Post.Hour_day           2.887      3.889   0.742  0.45836    \n",
       "Post.Hour_evening      19.565     10.705   1.828  0.06841 .  \n",
       "Paid_1                  1.378      4.031   0.342  0.73266    \n",
       "---\n",
       "Signif. codes:  0 '***' 0.001 '**' 0.01 '*' 0.05 '.' 0.1 ' ' 1\n",
       "\n",
       "Residual standard error: 33.31 on 371 degrees of freedom\n",
       "Multiple R-squared:  0.9979,\tAdjusted R-squared:  0.9978 \n",
       "F-statistic:  9192 on 19 and 371 DF,  p-value: < 2.2e-16\n"
      ]
     },
     "metadata": {},
     "output_type": "display_data"
    },
    {
     "name": "stdout",
     "output_type": "stream",
     "text": [
      "MAPE 0.326058"
     ]
    }
   ],
   "source": [
    "\n",
    "\n",
    "model2=lm(y~.,data=my_data2)\n",
    "summary(model2)\n",
    "predictions <- predict(model2, X_test)\n",
    "MAPE(predictions,y_test) # MAPE 0.3260  \n",
    "my_data22=my_data2\n"
   ]
  },
  {
   "cell_type": "code",
   "execution_count": 165,
   "metadata": {},
   "outputs": [],
   "source": [
    "library(ggpubr)"
   ]
  },
  {
   "cell_type": "code",
   "execution_count": 166,
   "metadata": {},
   "outputs": [
    {
     "data": {
      "image/png": "[encoded data removed]",
      "text/plain": [
       "plot without title"
      ]
     },
     "metadata": {},
     "output_type": "display_data"
    },
    {
     "data": {
      "image/png": "[encoded data removed]",
      "text/plain": [
       "plot without title"
      ]
     },
     "metadata": {},
     "output_type": "display_data"
    }
   ],
   "source": [
    "\n",
    "##normality checking\n",
    "y=my_data2[,1]\n",
    "\n",
    "ggdensity(y,fill='blue')+ggtitle('Density Curve')+labs(x='y')+theme_dark()\n",
    "ggqqplot(y)+ggtitle('Normal Q-Q Plot')+theme_light()"
   ]
  },
  {
   "cell_type": "code",
   "execution_count": 167,
   "metadata": {},
   "outputs": [],
   "source": [
    "library(MASS)"
   ]
  },
  {
   "cell_type": "code",
   "execution_count": 168,
   "metadata": {},
   "outputs": [
    {
     "data": {
      "image/png": "[encoded data removed]",
      "text/plain": [
       "plot without title"
      ]
     },
     "metadata": {},
     "output_type": "display_data"
    },
    {
     "data": {
      "text/html": [
       "2"
      ],
      "text/latex": [
       "2"
      ],
      "text/markdown": [
       "2"
      ],
      "text/plain": [
       "[1] 2"
      ]
     },
     "metadata": {},
     "output_type": "display_data"
    },
    {
     "data": {
      "text/plain": [
       "\n",
       "\tShapiro-Wilk normality test\n",
       "\n",
       "data:  z^best.lambda\n",
       "W = 0.98679, p-value = 0.001265\n"
      ]
     },
     "metadata": {},
     "output_type": "display_data"
    },
    {
     "data": {
      "image/png": "[encoded data removed]",
      "text/plain": [
       "plot without title"
      ]
     },
     "metadata": {},
     "output_type": "display_data"
    },
    {
     "data": {
      "image/png": "[encoded data removed]",
      "text/plain": [
       "Plot with title \"\""
      ]
     },
     "metadata": {},
     "output_type": "display_data"
    },
    {
     "data": {
      "image/png": "[encoded data removed]",
      "text/plain": [
       "Plot with title \"\""
      ]
     },
     "metadata": {},
     "output_type": "display_data"
    },
    {
     "data": {
      "image/png": "[encoded data removed]",
      "text/plain": [
       "Plot with title \"\""
      ]
     },
     "metadata": {},
     "output_type": "display_data"
    },
    {
     "data": {
      "image/png": "[encoded data removed]",
      "text/plain": [
       "Plot with title \"\""
      ]
     },
     "metadata": {},
     "output_type": "display_data"
    }
   ],
   "source": [
    "# Box-Cox transformation\n",
    "z=log(y)\n",
    "ggqqplot(z)+ggtitle('Normal Q-Q Plot')+theme_light()\n",
    "# box cox transformation on log(y)\n",
    "my_data22[,1]=z\n",
    "mod_bc=lm(y~.,data=my_data22)   # model for box-cox transformation\n",
    "bc=boxcox(mod_bc,lambda = seq(-2,2))   # boc-cox transformation \n",
    "best.lambda= bc$x[which(bc$y==max(bc$y))]\n",
    "best.lambda  #2\n",
    "shapiro.test(z^best.lambda)    #0.001265\n",
    "plot(lm((z^best.lambda)~.,data=my_data22))\n"
   ]
  },
  {
   "cell_type": "code",
   "execution_count": 169,
   "metadata": {},
   "outputs": [
    {
     "name": "stderr",
     "output_type": "stream",
     "text": [
      "Warning message:\n",
      "\"Removed 1 rows containing non-finite values (stat_qq).\"Warning message:\n",
      "\"Removed 1 rows containing non-finite values (stat_qq_line).\"Warning message:\n",
      "\"Removed 1 rows containing non-finite values (stat_qq_line).\"Warning message:\n",
      "\"Removed 1 rows containing non-finite values (stat_density).\""
     ]
    },
    {
     "data": {
      "image/png": "[encoded data removed]",
      "text/plain": [
       "plot without title"
      ]
     },
     "metadata": {},
     "output_type": "display_data"
    },
    {
     "data": {
      "text/plain": [
       "\n",
       "\tShapiro-Wilk normality test\n",
       "\n",
       "data:  z1\n",
       "W = 0.99375, p-value = 0.1135\n"
      ]
     },
     "metadata": {},
     "output_type": "display_data"
    },
    {
     "data": {
      "image/png": "[encoded data removed]",
      "text/plain": [
       "plot without title"
      ]
     },
     "metadata": {},
     "output_type": "display_data"
    }
   ],
   "source": [
    "#excluding first 6 points\n",
    "z1=sort(z)[7:392]\n",
    "ggqqplot(z1)+ggtitle('Normal Q-Q Plot')+theme_light()\n",
    "ggdensity(z1,fill='blue')+ggtitle('Density Curve')+theme_dark()\n",
    "shapiro.test(z1) #p-value = 0.1135  so, it is normal\n",
    "del_point=which(z<=sort(z)[6])\n"
   ]
  },
  {
   "cell_type": "code",
   "execution_count": 170,
   "metadata": {},
   "outputs": [
    {
     "data": {
      "text/html": [
       "<ol class=list-inline>\n",
       "\t<li>384</li>\n",
       "\t<li>20</li>\n",
       "</ol>\n"
      ],
      "text/latex": [
       "\\begin{enumerate*}\n",
       "\\item 384\n",
       "\\item 20\n",
       "\\end{enumerate*}\n"
      ],
      "text/markdown": [
       "1. 384\n",
       "2. 20\n",
       "\n",
       "\n"
      ],
      "text/plain": [
       "[1] 384  20"
      ]
     },
     "metadata": {},
     "output_type": "display_data"
    },
    {
     "data": {
      "text/plain": [
       "\n",
       "Call:\n",
       "lm(formula = z ~ ., data = my_data2)\n",
       "\n",
       "Residuals:\n",
       "     Min       1Q   Median       3Q      Max \n",
       "-1.58114 -0.09024  0.05563  0.17159  0.57939 \n",
       "\n",
       "Coefficients:\n",
       "                     Estimate Std. Error t value Pr(>|t|)    \n",
       "(Intercept)           6.64417    0.11310  58.744  < 2e-16 ***\n",
       "Page.total.likes     -0.03206    0.04140  -0.774  0.43916    \n",
       "Type                  0.08685    0.02109   4.119 4.71e-05 ***\n",
       "Total.Reach          -0.11060    0.07522  -1.470  0.14235    \n",
       "Total.Impressions     0.35353    0.13157   2.687  0.00754 ** \n",
       "Consumers             0.51335    0.06738   7.618 2.25e-13 ***\n",
       "Consumptions          0.07069    0.02622   2.696  0.00734 ** \n",
       "Impressions.liked    -0.37592    0.22474  -1.673  0.09525 .  \n",
       "Reach.liked           0.09554    0.08170   1.170  0.24296    \n",
       "People.engaged.liked -0.06062    0.07078  -0.857  0.39228    \n",
       "Total.Interactions    0.24951    0.02903   8.596 2.48e-16 ***\n",
       "Category_2            0.03722    0.04646   0.801  0.42353    \n",
       "Category_3            0.06036    0.04356   1.385  0.16677    \n",
       "Post.Month_group2    -0.10122    0.10007  -1.012  0.31244    \n",
       "Post.Month_group3    -0.32438    0.13929  -2.329  0.02041 *  \n",
       "Post.Weekday_weekend  0.01494    0.03464   0.431  0.66656    \n",
       "Post.Hour_morning    -0.02442    0.04747  -0.514  0.60729    \n",
       "Post.Hour_day        -0.01213    0.03601  -0.337  0.73641    \n",
       "Post.Hour_evening    -0.28808    0.09907  -2.908  0.00386 ** \n",
       "Paid_1                0.07955    0.03736   2.129  0.03390 *  \n",
       "---\n",
       "Signif. codes:  0 '***' 0.001 '**' 0.01 '*' 0.05 '.' 0.1 ' ' 1\n",
       "\n",
       "Residual standard error: 0.3059 on 364 degrees of freedom\n",
       "Multiple R-squared:  0.8439,\tAdjusted R-squared:  0.8358 \n",
       "F-statistic: 103.6 on 19 and 364 DF,  p-value: < 2.2e-16\n"
      ]
     },
     "metadata": {},
     "output_type": "display_data"
    },
    {
     "name": "stdout",
     "output_type": "stream",
     "text": [
      "MAPE 0.06632248"
     ]
    }
   ],
   "source": [
    "\n",
    "#new data with transformed response\n",
    "my_data2[,1]=z\n",
    "my_data2=my_data2[-del_point,]\n",
    "colnames(my_data2)[1]='z'\n",
    "dim(my_data2)   #384  20\n",
    "model3=lm(z~.,data=my_data2)   #Our new or transformed model\n",
    "summary(model3)\n",
    "predictions <- predict(model3, X_test)\n",
    "#MAPE(exp(predictions),y_test) # MAPE 0.4811202\n",
    "MAPE(predictions,log(y_test))   # 0.06632"
   ]
  },
  {
   "cell_type": "code",
   "execution_count": 171,
   "metadata": {},
   "outputs": [],
   "source": [
    "library(lmtest)"
   ]
  },
  {
   "cell_type": "code",
   "execution_count": 172,
   "metadata": {},
   "outputs": [
    {
     "data": {
      "text/plain": [
       "\n",
       "\tstudentized Breusch-Pagan test\n",
       "\n",
       "data:  model3\n",
       "BP = 17.05, df = 19, p-value = 0.5865\n"
      ]
     },
     "metadata": {},
     "output_type": "display_data"
    }
   ],
   "source": [
    "#heteroscedasticity\n",
    "library(lmtest)\n",
    "bptest(model3)  #p-value =0.5865 implies no heteroscedasticity\n"
   ]
  },
  {
   "cell_type": "code",
   "execution_count": 173,
   "metadata": {},
   "outputs": [
    {
     "data": {
      "text/html": [
       "<table>\n",
       "<thead><tr><th></th><th scope=col>Page.total.likes</th><th scope=col>Type</th><th scope=col>Total.Reach</th><th scope=col>Total.Impressions</th><th scope=col>Consumers</th><th scope=col>Consumptions</th><th scope=col>Impressions.liked</th><th scope=col>Reach.liked</th><th scope=col>People.engaged.liked</th><th scope=col>Total.Interactions</th></tr></thead>\n",
       "<tbody>\n",
       "\t<tr><th scope=row>Page.total.likes</th><td> 1.000000000</td><td>0.19183468  </td><td>-0.009042999</td><td>0.06541041  </td><td>-0.1625433  </td><td>-0.1422285  </td><td>-0.01294034 </td><td>-0.03250415 </td><td>0.04763436  </td><td>0.07884665  </td></tr>\n",
       "\t<tr><th scope=row>Type</th><td> 0.191834678</td><td>1.00000000  </td><td> 0.061401665</td><td>0.08524051  </td><td> 0.5153109  </td><td> 0.2798811  </td><td> 0.15531243 </td><td> 0.17069650 </td><td>0.54921531  </td><td>0.07577995  </td></tr>\n",
       "\t<tr><th scope=row>Total.Reach</th><td>-0.009042999</td><td>0.06140166  </td><td> 1.000000000</td><td>0.91498525  </td><td> 0.4440268  </td><td> 0.2914410  </td><td> 0.75540316 </td><td> 0.81445012 </td><td>0.38547494  </td><td>0.49295668  </td></tr>\n",
       "\t<tr><th scope=row>Total.Impressions</th><td> 0.065410413</td><td>0.08524051  </td><td> 0.914985250</td><td>1.00000000  </td><td> 0.3731710  </td><td> 0.2638315  </td><td> 0.83120337 </td><td> 0.76786285 </td><td>0.35050594  </td><td>0.41023113  </td></tr>\n",
       "\t<tr><th scope=row>Consumers</th><td>-0.162543273</td><td>0.51531085  </td><td> 0.444026792</td><td>0.37317099  </td><td> 1.0000000  </td><td> 0.6471108  </td><td> 0.47710709 </td><td> 0.56727381 </td><td>0.91019504  </td><td>0.33426659  </td></tr>\n",
       "\t<tr><th scope=row>Consumptions</th><td>-0.142228550</td><td>0.27988107  </td><td> 0.291441001</td><td>0.26383150  </td><td> 0.6471108  </td><td> 1.0000000  </td><td> 0.31754765 </td><td> 0.37647916 </td><td>0.58821491  </td><td>0.18892525  </td></tr>\n",
       "\t<tr><th scope=row>Impressions.liked</th><td>-0.012940344</td><td>0.15531243  </td><td> 0.755403165</td><td>0.83120337  </td><td> 0.4771071  </td><td> 0.3175477  </td><td> 1.00000000 </td><td> 0.91031585 </td><td>0.51280266  </td><td>0.49762668  </td></tr>\n",
       "\t<tr><th scope=row>Reach.liked</th><td>-0.032504147</td><td>0.17069650  </td><td> 0.814450119</td><td>0.76786285  </td><td> 0.5672738  </td><td> 0.3764792  </td><td> 0.91031585 </td><td> 1.00000000 </td><td>0.63065586  </td><td>0.63552993  </td></tr>\n",
       "\t<tr><th scope=row>People.engaged.liked</th><td> 0.047634357</td><td>0.54921531  </td><td> 0.385474936</td><td>0.35050594  </td><td> 0.9101950  </td><td> 0.5882149  </td><td> 0.51280266 </td><td> 0.63065586 </td><td>1.00000000  </td><td>0.45523195  </td></tr>\n",
       "\t<tr><th scope=row>Total.Interactions</th><td> 0.078846654</td><td>0.07577995  </td><td> 0.492956683</td><td>0.41023113  </td><td> 0.3342666  </td><td> 0.1889253  </td><td> 0.49762668 </td><td> 0.63552993 </td><td>0.45523195  </td><td>1.00000000  </td></tr>\n",
       "</tbody>\n",
       "</table>\n"
      ],
      "text/latex": [
       "\\begin{tabular}{r|llllllllll}\n",
       "  & Page.total.likes & Type & Total.Reach & Total.Impressions & Consumers & Consumptions & Impressions.liked & Reach.liked & People.engaged.liked & Total.Interactions\\\\\n",
       "\\hline\n",
       "\tPage.total.likes &  1.000000000 & 0.19183468   & -0.009042999 & 0.06541041   & -0.1625433   & -0.1422285   & -0.01294034  & -0.03250415  & 0.04763436   & 0.07884665  \\\\\n",
       "\tType &  0.191834678 & 1.00000000   &  0.061401665 & 0.08524051   &  0.5153109   &  0.2798811   &  0.15531243  &  0.17069650  & 0.54921531   & 0.07577995  \\\\\n",
       "\tTotal.Reach & -0.009042999 & 0.06140166   &  1.000000000 & 0.91498525   &  0.4440268   &  0.2914410   &  0.75540316  &  0.81445012  & 0.38547494   & 0.49295668  \\\\\n",
       "\tTotal.Impressions &  0.065410413 & 0.08524051   &  0.914985250 & 1.00000000   &  0.3731710   &  0.2638315   &  0.83120337  &  0.76786285  & 0.35050594   & 0.41023113  \\\\\n",
       "\tConsumers & -0.162543273 & 0.51531085   &  0.444026792 & 0.37317099   &  1.0000000   &  0.6471108   &  0.47710709  &  0.56727381  & 0.91019504   & 0.33426659  \\\\\n",
       "\tConsumptions & -0.142228550 & 0.27988107   &  0.291441001 & 0.26383150   &  0.6471108   &  1.0000000   &  0.31754765  &  0.37647916  & 0.58821491   & 0.18892525  \\\\\n",
       "\tImpressions.liked & -0.012940344 & 0.15531243   &  0.755403165 & 0.83120337   &  0.4771071   &  0.3175477   &  1.00000000  &  0.91031585  & 0.51280266   & 0.49762668  \\\\\n",
       "\tReach.liked & -0.032504147 & 0.17069650   &  0.814450119 & 0.76786285   &  0.5672738   &  0.3764792   &  0.91031585  &  1.00000000  & 0.63065586   & 0.63552993  \\\\\n",
       "\tPeople.engaged.liked &  0.047634357 & 0.54921531   &  0.385474936 & 0.35050594   &  0.9101950   &  0.5882149   &  0.51280266  &  0.63065586  & 1.00000000   & 0.45523195  \\\\\n",
       "\tTotal.Interactions &  0.078846654 & 0.07577995   &  0.492956683 & 0.41023113   &  0.3342666   &  0.1889253   &  0.49762668  &  0.63552993  & 0.45523195   & 1.00000000  \\\\\n",
       "\\end{tabular}\n"
      ],
      "text/markdown": [
       "\n",
       "| <!--/--> | Page.total.likes | Type | Total.Reach | Total.Impressions | Consumers | Consumptions | Impressions.liked | Reach.liked | People.engaged.liked | Total.Interactions |\n",
       "|---|---|---|---|---|---|---|---|---|---|---|\n",
       "| Page.total.likes |  1.000000000 | 0.19183468   | -0.009042999 | 0.06541041   | -0.1625433   | -0.1422285   | -0.01294034  | -0.03250415  | 0.04763436   | 0.07884665   |\n",
       "| Type |  0.191834678 | 1.00000000   |  0.061401665 | 0.08524051   |  0.5153109   |  0.2798811   |  0.15531243  |  0.17069650  | 0.54921531   | 0.07577995   |\n",
       "| Total.Reach | -0.009042999 | 0.06140166   |  1.000000000 | 0.91498525   |  0.4440268   |  0.2914410   |  0.75540316  |  0.81445012  | 0.38547494   | 0.49295668   |\n",
       "| Total.Impressions |  0.065410413 | 0.08524051   |  0.914985250 | 1.00000000   |  0.3731710   |  0.2638315   |  0.83120337  |  0.76786285  | 0.35050594   | 0.41023113   |\n",
       "| Consumers | -0.162543273 | 0.51531085   |  0.444026792 | 0.37317099   |  1.0000000   |  0.6471108   |  0.47710709  |  0.56727381  | 0.91019504   | 0.33426659   |\n",
       "| Consumptions | -0.142228550 | 0.27988107   |  0.291441001 | 0.26383150   |  0.6471108   |  1.0000000   |  0.31754765  |  0.37647916  | 0.58821491   | 0.18892525   |\n",
       "| Impressions.liked | -0.012940344 | 0.15531243   |  0.755403165 | 0.83120337   |  0.4771071   |  0.3175477   |  1.00000000  |  0.91031585  | 0.51280266   | 0.49762668   |\n",
       "| Reach.liked | -0.032504147 | 0.17069650   |  0.814450119 | 0.76786285   |  0.5672738   |  0.3764792   |  0.91031585  |  1.00000000  | 0.63065586   | 0.63552993   |\n",
       "| People.engaged.liked |  0.047634357 | 0.54921531   |  0.385474936 | 0.35050594   |  0.9101950   |  0.5882149   |  0.51280266  |  0.63065586  | 1.00000000   | 0.45523195   |\n",
       "| Total.Interactions |  0.078846654 | 0.07577995   |  0.492956683 | 0.41023113   |  0.3342666   |  0.1889253   |  0.49762668  |  0.63552993  | 0.45523195   | 1.00000000   |\n",
       "\n"
      ],
      "text/plain": [
       "                     Page.total.likes Type       Total.Reach  Total.Impressions\n",
       "Page.total.likes      1.000000000     0.19183468 -0.009042999 0.06541041       \n",
       "Type                  0.191834678     1.00000000  0.061401665 0.08524051       \n",
       "Total.Reach          -0.009042999     0.06140166  1.000000000 0.91498525       \n",
       "Total.Impressions     0.065410413     0.08524051  0.914985250 1.00000000       \n",
       "Consumers            -0.162543273     0.51531085  0.444026792 0.37317099       \n",
       "Consumptions         -0.142228550     0.27988107  0.291441001 0.26383150       \n",
       "Impressions.liked    -0.012940344     0.15531243  0.755403165 0.83120337       \n",
       "Reach.liked          -0.032504147     0.17069650  0.814450119 0.76786285       \n",
       "People.engaged.liked  0.047634357     0.54921531  0.385474936 0.35050594       \n",
       "Total.Interactions    0.078846654     0.07577995  0.492956683 0.41023113       \n",
       "                     Consumers  Consumptions Impressions.liked Reach.liked\n",
       "Page.total.likes     -0.1625433 -0.1422285   -0.01294034       -0.03250415\n",
       "Type                  0.5153109  0.2798811    0.15531243        0.17069650\n",
       "Total.Reach           0.4440268  0.2914410    0.75540316        0.81445012\n",
       "Total.Impressions     0.3731710  0.2638315    0.83120337        0.76786285\n",
       "Consumers             1.0000000  0.6471108    0.47710709        0.56727381\n",
       "Consumptions          0.6471108  1.0000000    0.31754765        0.37647916\n",
       "Impressions.liked     0.4771071  0.3175477    1.00000000        0.91031585\n",
       "Reach.liked           0.5672738  0.3764792    0.91031585        1.00000000\n",
       "People.engaged.liked  0.9101950  0.5882149    0.51280266        0.63065586\n",
       "Total.Interactions    0.3342666  0.1889253    0.49762668        0.63552993\n",
       "                     People.engaged.liked Total.Interactions\n",
       "Page.total.likes     0.04763436           0.07884665        \n",
       "Type                 0.54921531           0.07577995        \n",
       "Total.Reach          0.38547494           0.49295668        \n",
       "Total.Impressions    0.35050594           0.41023113        \n",
       "Consumers            0.91019504           0.33426659        \n",
       "Consumptions         0.58821491           0.18892525        \n",
       "Impressions.liked    0.51280266           0.49762668        \n",
       "Reach.liked          0.63065586           0.63552993        \n",
       "People.engaged.liked 1.00000000           0.45523195        \n",
       "Total.Interactions   0.45523195           1.00000000        "
      ]
     },
     "metadata": {},
     "output_type": "display_data"
    }
   ],
   "source": [
    "#multicollinearity\n",
    "# checking Multicollinearity\n",
    "X_num<-my_data2[,2:11]   # containing only numerical vectors\n",
    "cor(X_num)  # from this it is clear that X2,X3,X6,X7 are highly correlate also \n",
    "#X4 and X8 are highly correlated.(indication of Multicollinearity)"
   ]
  },
  {
   "cell_type": "code",
   "execution_count": 174,
   "metadata": {},
   "outputs": [
    {
     "data": {
      "text/html": [
       "814.511361730341"
      ],
      "text/latex": [
       "814.511361730341"
      ],
      "text/markdown": [
       "814.511361730341"
      ],
      "text/plain": [
       "[1] 814.5114"
      ]
     },
     "metadata": {},
     "output_type": "display_data"
    }
   ],
   "source": [
    "\n",
    "\n",
    "#Computation of X'X\n",
    "X_num=as.numeric(unlist(X_num))\n",
    "X_num=matrix(X_num,ncol=10,byrow = FALSE)\n",
    "C=t(X_num)%*%(X_num)  # it is [10,10] matrix\n",
    "eigen_C=(eigen(C))$values\n",
    "k=max(eigen_C)/min(eigen_C)   \n",
    "k\n",
    "# here k is condition number and k=972.91 which is near to 1000 and it is\n",
    "# strong evidence of Multicollinearity"
   ]
  },
  {
   "cell_type": "code",
   "execution_count": 177,
   "metadata": {},
   "outputs": [],
   "source": [
    "library(GGally)"
   ]
  },
  {
   "cell_type": "code",
   "execution_count": 179,
   "metadata": {},
   "outputs": [
    {
     "data": {
      "text/html": [
       "<dl class=dl-horizontal>\n",
       "\t<dt>Page.total.likes</dt>\n",
       "\t\t<dd>6.89131217107821</dd>\n",
       "\t<dt>Type</dt>\n",
       "\t\t<dd>1.85615495056467</dd>\n",
       "\t<dt>Total.Reach</dt>\n",
       "\t\t<dd>17.9127398432856</dd>\n",
       "\t<dt>Total.Impressions</dt>\n",
       "\t\t<dd>15.4679446029149</dd>\n",
       "\t<dt>Consumers</dt>\n",
       "\t\t<dd>17.3036900639922</dd>\n",
       "\t<dt>Consumptions</dt>\n",
       "\t\t<dd>2.0924967243121</dd>\n",
       "\t<dt>Impressions.liked</dt>\n",
       "\t\t<dd>15.2042539839826</dd>\n",
       "\t<dt>Reach.liked</dt>\n",
       "\t\t<dd>22.4658688529344</dd>\n",
       "\t<dt>People.engaged.liked</dt>\n",
       "\t\t<dd>18.5931103519804</dd>\n",
       "\t<dt>Total.Interactions</dt>\n",
       "\t\t<dd>2.31655416902239</dd>\n",
       "\t<dt>Category_2</dt>\n",
       "\t\t<dd>1.71653959923773</dd>\n",
       "\t<dt>Category_3</dt>\n",
       "\t\t<dd>1.67300651322751</dd>\n",
       "\t<dt>Post.Month_group2</dt>\n",
       "\t\t<dd>10.068210456104</dd>\n",
       "\t<dt>Post.Month_group3</dt>\n",
       "\t\t<dd>19.7624989418795</dd>\n",
       "\t<dt>Post.Weekday_weekend</dt>\n",
       "\t\t<dd>1.08542882710251</dd>\n",
       "\t<dt>Post.Hour_morning</dt>\n",
       "\t\t<dd>1.28416436212048</dd>\n",
       "\t<dt>Post.Hour_day</dt>\n",
       "\t\t<dd>1.29514281377956</dd>\n",
       "\t<dt>Post.Hour_evening</dt>\n",
       "\t\t<dd>1.41479917787441</dd>\n",
       "\t<dt>Paid_1</dt>\n",
       "\t\t<dd>1.05116534322606</dd>\n",
       "</dl>\n"
      ],
      "text/latex": [
       "\\begin{description*}\n",
       "\\item[Page.total.likes] 6.89131217107821\n",
       "\\item[Type] 1.85615495056467\n",
       "\\item[Total.Reach] 17.9127398432856\n",
       "\\item[Total.Impressions] 15.4679446029149\n",
       "\\item[Consumers] 17.3036900639922\n",
       "\\item[Consumptions] 2.0924967243121\n",
       "\\item[Impressions.liked] 15.2042539839826\n",
       "\\item[Reach.liked] 22.4658688529344\n",
       "\\item[People.engaged.liked] 18.5931103519804\n",
       "\\item[Total.Interactions] 2.31655416902239\n",
       "\\item[Category\\textbackslash{}\\_2] 1.71653959923773\n",
       "\\item[Category\\textbackslash{}\\_3] 1.67300651322751\n",
       "\\item[Post.Month\\textbackslash{}\\_group2] 10.068210456104\n",
       "\\item[Post.Month\\textbackslash{}\\_group3] 19.7624989418795\n",
       "\\item[Post.Weekday\\textbackslash{}\\_weekend] 1.08542882710251\n",
       "\\item[Post.Hour\\textbackslash{}\\_morning] 1.28416436212048\n",
       "\\item[Post.Hour\\textbackslash{}\\_day] 1.29514281377956\n",
       "\\item[Post.Hour\\textbackslash{}\\_evening] 1.41479917787441\n",
       "\\item[Paid\\textbackslash{}\\_1] 1.05116534322606\n",
       "\\end{description*}\n"
      ],
      "text/markdown": [
       "Page.total.likes\n",
       ":   6.89131217107821Type\n",
       ":   1.85615495056467Total.Reach\n",
       ":   17.9127398432856Total.Impressions\n",
       ":   15.4679446029149Consumers\n",
       ":   17.3036900639922Consumptions\n",
       ":   2.0924967243121Impressions.liked\n",
       ":   15.2042539839826Reach.liked\n",
       ":   22.4658688529344People.engaged.liked\n",
       ":   18.5931103519804Total.Interactions\n",
       ":   2.31655416902239Category_2\n",
       ":   1.71653959923773Category_3\n",
       ":   1.67300651322751Post.Month_group2\n",
       ":   10.068210456104Post.Month_group3\n",
       ":   19.7624989418795Post.Weekday_weekend\n",
       ":   1.08542882710251Post.Hour_morning\n",
       ":   1.28416436212048Post.Hour_day\n",
       ":   1.29514281377956Post.Hour_evening\n",
       ":   1.41479917787441Paid_1\n",
       ":   1.05116534322606\n",
       "\n"
      ],
      "text/plain": [
       "    Page.total.likes                 Type          Total.Reach \n",
       "            6.891312             1.856155            17.912740 \n",
       "   Total.Impressions            Consumers         Consumptions \n",
       "           15.467945            17.303690             2.092497 \n",
       "   Impressions.liked          Reach.liked People.engaged.liked \n",
       "           15.204254            22.465869            18.593110 \n",
       "  Total.Interactions           Category_2           Category_3 \n",
       "            2.316554             1.716540             1.673007 \n",
       "   Post.Month_group2    Post.Month_group3 Post.Weekday_weekend \n",
       "           10.068210            19.762499             1.085429 \n",
       "   Post.Hour_morning        Post.Hour_day    Post.Hour_evening \n",
       "            1.284164             1.295143             1.414799 \n",
       "              Paid_1 \n",
       "            1.051165 "
      ]
     },
     "metadata": {},
     "output_type": "display_data"
    },
    {
     "data": {
      "image/png": "[encoded data removed]",
      "text/plain": [
       "plot without title"
      ]
     },
     "metadata": {},
     "output_type": "display_data"
    }
   ],
   "source": [
    "ggpairs(data.frame(X_num))\n",
    "car::vif(model3)      \n",
    "#Some of the VIFs are greater than 10 so we will look into Lasso"
   ]
  },
  {
   "cell_type": "code",
   "execution_count": 181,
   "metadata": {},
   "outputs": [
    {
     "name": "stderr",
     "output_type": "stream",
     "text": [
      "Warning message:\n",
      "\"package 'glmnet' was built under R version 3.6.3\"Loading required package: Matrix\n",
      "Loaded glmnet 4.0-2\n"
     ]
    }
   ],
   "source": [
    "library(glmnet)"
   ]
  },
  {
   "cell_type": "code",
   "execution_count": 183,
   "metadata": {},
   "outputs": [
    {
     "data": {
      "text/html": [
       "<dl class=dl-horizontal>\n",
       "\t<dt>(Intercept)</dt>\n",
       "\t\t<dd>6.56120285329556</dd>\n",
       "\t<dt>Page.total.likes</dt>\n",
       "\t\t<dd>0</dd>\n",
       "\t<dt>Type</dt>\n",
       "\t\t<dd>0.0143270568159256</dd>\n",
       "\t<dt>Total.Reach</dt>\n",
       "\t\t<dd>0</dd>\n",
       "\t<dt>Total.Impressions</dt>\n",
       "\t\t<dd>0.0419823056159693</dd>\n",
       "\t<dt>Consumers</dt>\n",
       "\t\t<dd>0.535076279009067</dd>\n",
       "\t<dt>Consumptions</dt>\n",
       "\t\t<dd>0</dd>\n",
       "\t<dt>Impressions.liked</dt>\n",
       "\t\t<dd>0</dd>\n",
       "\t<dt>Reach.liked</dt>\n",
       "\t\t<dd>0</dd>\n",
       "\t<dt>People.engaged.liked</dt>\n",
       "\t\t<dd>0</dd>\n",
       "\t<dt>Total.Interactions</dt>\n",
       "\t\t<dd>0.200841449841357</dd>\n",
       "\t<dt>Category_2</dt>\n",
       "\t\t<dd>0</dd>\n",
       "\t<dt>Category_3</dt>\n",
       "\t\t<dd>0</dd>\n",
       "\t<dt>Post.Month_group2</dt>\n",
       "\t\t<dd>0</dd>\n",
       "\t<dt>Post.Month_group3</dt>\n",
       "\t\t<dd>-0.1686466828926</dd>\n",
       "\t<dt>Post.Weekday_weekend</dt>\n",
       "\t\t<dd>0</dd>\n",
       "\t<dt>Post.Hour_morning</dt>\n",
       "\t\t<dd>0</dd>\n",
       "\t<dt>Post.Hour_day</dt>\n",
       "\t\t<dd>0</dd>\n",
       "\t<dt>Post.Hour_evening</dt>\n",
       "\t\t<dd>0</dd>\n",
       "\t<dt>Paid_1</dt>\n",
       "\t\t<dd>0</dd>\n",
       "</dl>\n"
      ],
      "text/latex": [
       "\\begin{description*}\n",
       "\\item[(Intercept)] 6.56120285329556\n",
       "\\item[Page.total.likes] 0\n",
       "\\item[Type] 0.0143270568159256\n",
       "\\item[Total.Reach] 0\n",
       "\\item[Total.Impressions] 0.0419823056159693\n",
       "\\item[Consumers] 0.535076279009067\n",
       "\\item[Consumptions] 0\n",
       "\\item[Impressions.liked] 0\n",
       "\\item[Reach.liked] 0\n",
       "\\item[People.engaged.liked] 0\n",
       "\\item[Total.Interactions] 0.200841449841357\n",
       "\\item[Category\\textbackslash{}\\_2] 0\n",
       "\\item[Category\\textbackslash{}\\_3] 0\n",
       "\\item[Post.Month\\textbackslash{}\\_group2] 0\n",
       "\\item[Post.Month\\textbackslash{}\\_group3] -0.1686466828926\n",
       "\\item[Post.Weekday\\textbackslash{}\\_weekend] 0\n",
       "\\item[Post.Hour\\textbackslash{}\\_morning] 0\n",
       "\\item[Post.Hour\\textbackslash{}\\_day] 0\n",
       "\\item[Post.Hour\\textbackslash{}\\_evening] 0\n",
       "\\item[Paid\\textbackslash{}\\_1] 0\n",
       "\\end{description*}\n"
      ],
      "text/markdown": [
       "(Intercept)\n",
       ":   6.56120285329556Page.total.likes\n",
       ":   0Type\n",
       ":   0.0143270568159256Total.Reach\n",
       ":   0Total.Impressions\n",
       ":   0.0419823056159693Consumers\n",
       ":   0.535076279009067Consumptions\n",
       ":   0Impressions.liked\n",
       ":   0Reach.liked\n",
       ":   0People.engaged.liked\n",
       ":   0Total.Interactions\n",
       ":   0.200841449841357Category_2\n",
       ":   0Category_3\n",
       ":   0Post.Month_group2\n",
       ":   0Post.Month_group3\n",
       ":   -0.1686466828926Post.Weekday_weekend\n",
       ":   0Post.Hour_morning\n",
       ":   0Post.Hour_day\n",
       ":   0Post.Hour_evening\n",
       ":   0Paid_1\n",
       ":   0\n",
       "\n"
      ],
      "text/plain": [
       "         (Intercept)     Page.total.likes                 Type \n",
       "          6.56120285           0.00000000           0.01432706 \n",
       "         Total.Reach    Total.Impressions            Consumers \n",
       "          0.00000000           0.04198231           0.53507628 \n",
       "        Consumptions    Impressions.liked          Reach.liked \n",
       "          0.00000000           0.00000000           0.00000000 \n",
       "People.engaged.liked   Total.Interactions           Category_2 \n",
       "          0.00000000           0.20084145           0.00000000 \n",
       "          Category_3    Post.Month_group2    Post.Month_group3 \n",
       "          0.00000000           0.00000000          -0.16864668 \n",
       "Post.Weekday_weekend    Post.Hour_morning        Post.Hour_day \n",
       "          0.00000000           0.00000000           0.00000000 \n",
       "   Post.Hour_evening               Paid_1 \n",
       "          0.00000000           0.00000000 "
      ]
     },
     "metadata": {},
     "output_type": "display_data"
    },
    {
     "data": {
      "text/html": [
       "6"
      ],
      "text/latex": [
       "6"
      ],
      "text/markdown": [
       "6"
      ],
      "text/plain": [
       "[1] 6"
      ]
     },
     "metadata": {},
     "output_type": "display_data"
    },
    {
     "data": {
      "text/html": [
       "<ol class=list-inline>\n",
       "\t<li>'(Intercept)'</li>\n",
       "\t<li>'Type'</li>\n",
       "\t<li>'Total.Impressions'</li>\n",
       "\t<li>'Consumers'</li>\n",
       "\t<li>'Total.Interactions'</li>\n",
       "\t<li>'Post.Month_group3'</li>\n",
       "</ol>\n"
      ],
      "text/latex": [
       "\\begin{enumerate*}\n",
       "\\item '(Intercept)'\n",
       "\\item 'Type'\n",
       "\\item 'Total.Impressions'\n",
       "\\item 'Consumers'\n",
       "\\item 'Total.Interactions'\n",
       "\\item 'Post.Month\\_group3'\n",
       "\\end{enumerate*}\n"
      ],
      "text/markdown": [
       "1. '(Intercept)'\n",
       "2. 'Type'\n",
       "3. 'Total.Impressions'\n",
       "4. 'Consumers'\n",
       "5. 'Total.Interactions'\n",
       "6. 'Post.Month_group3'\n",
       "\n",
       "\n"
      ],
      "text/plain": [
       "[1] \"(Intercept)\"        \"Type\"               \"Total.Impressions\" \n",
       "[4] \"Consumers\"          \"Total.Interactions\" \"Post.Month_group3\" "
      ]
     },
     "metadata": {},
     "output_type": "display_data"
    },
    {
     "data": {
      "text/html": [
       "0.00743026258414189"
      ],
      "text/latex": [
       "0.00743026258414189"
      ],
      "text/markdown": [
       "0.00743026258414189"
      ],
      "text/plain": [
       "[1] 0.007430263"
      ]
     },
     "metadata": {},
     "output_type": "display_data"
    },
    {
     "name": "stdout",
     "output_type": "stream",
     "text": [
      "MAPE 0.0561322"
     ]
    },
    {
     "data": {
      "text/html": [
       "<dl class=dl-horizontal>\n",
       "\t<dt>Type</dt>\n",
       "\t\t<dd>1.47699244618849</dd>\n",
       "\t<dt>Total.Impressions</dt>\n",
       "\t\t<dd>1.31642247959984</dd>\n",
       "\t<dt>Consumers</dt>\n",
       "\t\t<dd>1.82148348695721</dd>\n",
       "\t<dt>Total.Interactions</dt>\n",
       "\t\t<dd>1.28471607350335</dd>\n",
       "\t<dt>Post.Month_group3</dt>\n",
       "\t\t<dd>1.09646433845824</dd>\n",
       "</dl>\n"
      ],
      "text/latex": [
       "\\begin{description*}\n",
       "\\item[Type] 1.47699244618849\n",
       "\\item[Total.Impressions] 1.31642247959984\n",
       "\\item[Consumers] 1.82148348695721\n",
       "\\item[Total.Interactions] 1.28471607350335\n",
       "\\item[Post.Month\\textbackslash{}\\_group3] 1.09646433845824\n",
       "\\end{description*}\n"
      ],
      "text/markdown": [
       "Type\n",
       ":   1.47699244618849Total.Impressions\n",
       ":   1.31642247959984Consumers\n",
       ":   1.82148348695721Total.Interactions\n",
       ":   1.28471607350335Post.Month_group3\n",
       ":   1.09646433845824\n",
       "\n"
      ],
      "text/plain": [
       "              Type  Total.Impressions          Consumers Total.Interactions \n",
       "          1.476992           1.316422           1.821483           1.284716 \n",
       " Post.Month_group3 \n",
       "          1.096464 "
      ]
     },
     "metadata": {},
     "output_type": "display_data"
    },
    {
     "data": {
      "image/png": "[encoded data removed]",
      "text/plain": [
       "plot without title"
      ]
     },
     "metadata": {},
     "output_type": "display_data"
    }
   ],
   "source": [
    "#Lasso to remove multicolinearity + variable selection\n",
    "xtrain=as.matrix(my_data2[,-1])\n",
    "ytrain=as.vector(my_data2[,1])\n",
    "cv.out=cv.glmnet(xtrain,ytrain,type.measure = \"mse\",alpha=1, family=\"gaussian\")\n",
    "a=coef(cv.out)[,1]\n",
    "a\n",
    "length(a[a!=0]) #17 non zero coefficients\n",
    "selected_variable=names(a[a!=0])\n",
    "selected_variable\n",
    "plot(cv.out,xlab=\"log(lambda)\",ylab=\"mean squared error\")\n",
    "bestlam=cv.out$lambda.min\n",
    "bestlam\n",
    "lasso.pred=predict(cv.out,s=bestlam,newx = as.matrix(X_test))\n",
    "MAPE(lasso.pred,log(y_test)) #0.0563\n",
    "\n",
    "lasso_model=lm(formula=z~Type+Total.Impressions+Consumers+Total.Interactions+Post.Month_group3,data=my_data2)\n",
    "car::vif(lasso_model)\n",
    "#All VIFs are less than 10 so this indicates multicollinearity has been \n",
    "#removed and Variable selection has been applied"
   ]
  },
  {
   "cell_type": "code",
   "execution_count": 184,
   "metadata": {},
   "outputs": [
    {
     "data": {
      "text/html": [
       "0.00743026258414189"
      ],
      "text/latex": [
       "0.00743026258414189"
      ],
      "text/markdown": [
       "0.00743026258414189"
      ],
      "text/plain": [
       "[1] 0.007430263"
      ]
     },
     "metadata": {},
     "output_type": "display_data"
    }
   ],
   "source": [
    "bestlam\n"
   ]
  },
  {
   "cell_type": "code",
   "execution_count": null,
   "metadata": {},
   "outputs": [],
   "source": []
  },
  {
   "cell_type": "code",
   "execution_count": null,
   "metadata": {},
   "outputs": [],
   "source": []
  },
  {
   "cell_type": "code",
   "execution_count": null,
   "metadata": {},
   "outputs": [],
   "source": []
  },
  {
   "cell_type": "code",
   "execution_count": null,
   "metadata": {},
   "outputs": [],
   "source": []
  },
  {
   "cell_type": "code",
   "execution_count": null,
   "metadata": {},
   "outputs": [],
   "source": []
  }
 ],
 "metadata": {
  "kernelspec": {
   "display_name": "R",
   "language": "R",
   "name": "ir"
  },
  "language_info": {
   "codemirror_mode": "r",
   "file_extension": ".r",
   "mimetype": "text/x-r-source",
   "name": "R",
   "pygments_lexer": "r",
   "version": "3.6.1"
  }
 },
 "nbformat": 4,
 "nbformat_minor": 4
}
